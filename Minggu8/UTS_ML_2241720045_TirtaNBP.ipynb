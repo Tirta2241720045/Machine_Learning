{
  "cells": [
    {
      "cell_type": "markdown",
      "metadata": {
        "id": "view-in-github",
        "colab_type": "text"
      },
      "source": [
        "<a href=\"https://colab.research.google.com/github/Tirta2241720045/Machine_Learning/blob/main/Minggu8/UTS_ML_2241720045_TirtaNBP.ipynb\" target=\"_parent\"><img src=\"https://colab.research.google.com/assets/colab-badge.svg\" alt=\"Open In Colab\"/></a>"
      ]
    },
    {
      "cell_type": "markdown",
      "metadata": {
        "id": "-RQERgHj-5_B"
      },
      "source": [
        "# UJIAN TENGAH SEMESTER 2024-2025\n",
        "# Pembelajaran Mesin\n",
        "Klasifikasi Neural Network (NN) Pada Data Citra\n",
        "# Intro\n",
        "\n",
        "Pada UTS ini, Anda diminta untuk melakukan klasifikasi citra wajah dengan menggunakan dataset Casia-Webface (Data dapat diunduh pada Kaggle).\n",
        "Anda diperbolehkan melakukan eksplorasi terhadap:\n",
        "1. Metode pra pengolahan\n",
        "2. Pemilihan fitur\n",
        "3. Arsitektur ANN\n",
        "4. Fungsi Aktiviasi\n",
        "5. Metric Evaluasi"
      ]
    },
    {
      "cell_type": "markdown",
      "metadata": {
        "id": "N5TYfK4o-5_D"
      },
      "source": [
        "# Preparation"
      ]
    },
    {
      "cell_type": "code",
      "execution_count": null,
      "metadata": {
        "id": "8yYN9TGx-5_E"
      },
      "outputs": [],
      "source": [
        "'''\n",
        "    Pada bagian ini Anda dapat memasukkan library yang dibutuhkan\n",
        "'''"
      ]
    },
    {
      "cell_type": "markdown",
      "metadata": {
        "id": "0fXrEvAW-5_E"
      },
      "source": [
        "# Load Data"
      ]
    },
    {
      "cell_type": "code",
      "execution_count": null,
      "metadata": {
        "id": "5blzYQ4e-5_E"
      },
      "outputs": [],
      "source": [
        "'''\n",
        "    Pada bagian ini Anda dapat memuat dataset Casia-Webface dan visualisasi data.\n",
        "'''"
      ]
    },
    {
      "cell_type": "markdown",
      "metadata": {
        "id": "Xz5iwuV1-5_F"
      },
      "source": [
        "# Preprocessing"
      ]
    },
    {
      "cell_type": "code",
      "execution_count": null,
      "metadata": {
        "id": "4IJAGseA-5_F"
      },
      "outputs": [],
      "source": [
        "'''\n",
        "    Pada bagian ini Anda diperbolehkan untuk melakukan proses pra pengolahan data (preprocessing) sesuai dengan kebutuhan. Pra pengolahan data dapat berupa,\n",
        "\n",
        "    1. Standardisasi nilai fitur ataupun label\n",
        "    2. Penyesuaian ukuran gambar\n",
        "    3. Perubahan colorspace gambar\n",
        "    4. dsb\n",
        "'''"
      ]
    },
    {
      "cell_type": "markdown",
      "metadata": {
        "id": "YEWB-KpC-5_F"
      },
      "source": [
        "# Build Model"
      ]
    },
    {
      "cell_type": "code",
      "execution_count": null,
      "metadata": {
        "id": "ttB-Y-iE-5_F"
      },
      "outputs": [],
      "source": [
        "'''\n",
        "    Pada bagian ini lakukan proses pembuatan model,\n",
        "\n",
        "    1. Pembuatan input layer, hidden layer, output layer\n",
        "    2. Menentukan fungsi aktivasi\n",
        "    3. Compile Model (Menentukan optimizer, loss, metrics)\n",
        "    3. Proses fitting model\n",
        "'''"
      ]
    },
    {
      "cell_type": "markdown",
      "metadata": {
        "id": "d5RIVYYE-5_F"
      },
      "source": [
        "# Evaluation"
      ]
    },
    {
      "cell_type": "code",
      "execution_count": null,
      "metadata": {
        "id": "lYbRyBLS-5_F"
      },
      "outputs": [],
      "source": [
        "'''\n",
        "    Pada bagian ini, lakukan evaluasi terhadap data training dan data testing\n",
        "'''"
      ]
    }
  ],
  "metadata": {
    "kernelspec": {
      "display_name": "base",
      "language": "python",
      "name": "python3"
    },
    "language_info": {
      "name": "python",
      "version": "3.12.4"
    },
    "colab": {
      "provenance": [],
      "include_colab_link": true
    }
  },
  "nbformat": 4,
  "nbformat_minor": 0
}