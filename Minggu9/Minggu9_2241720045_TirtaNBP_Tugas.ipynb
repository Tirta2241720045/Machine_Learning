{
  "nbformat": 4,
  "nbformat_minor": 0,
  "metadata": {
    "colab": {
      "provenance": [],
      "mount_file_id": "https://github.com/Tirta2241720045/Machine_Learning/blob/main/Minggu9/Minggu9_2241720045_TirtaNBP_Tugas.ipynb",
      "authorship_tag": "ABX9TyPTaNLOumlpqFbWgU+if9GK",
      "include_colab_link": true
    },
    "kernelspec": {
      "name": "python3",
      "display_name": "Python 3"
    },
    "language_info": {
      "name": "python"
    }
  },
  "cells": [
    {
      "cell_type": "markdown",
      "metadata": {
        "id": "view-in-github",
        "colab_type": "text"
      },
      "source": [
        "<a href=\"https://colab.research.google.com/github/Tirta2241720045/Machine_Learning/blob/main/Minggu9/Minggu9_2241720045_TirtaNBP_Tugas.ipynb\" target=\"_parent\"><img src=\"https://colab.research.google.com/assets/colab-badge.svg\" alt=\"Open In Colab\"/></a>"
      ]
    },
    {
      "cell_type": "markdown",
      "source": [
        "# Job Sheet 9: Perceptron dan ANN\n",
        "# Nama: Tirta Nurrochman Bintang Prawira\n",
        "# NIM: 2241720045\n",
        "# Kelas: TI-3A\n",
        "# No: 27"
      ],
      "metadata": {
        "id": "tONrL-jmGA63"
      }
    },
    {
      "cell_type": "markdown",
      "source": [
        "# Praktikum 1: Klasifikasi Iris dengan Perceptron\n",
        "# Langkah 1 - Import Library"
      ],
      "metadata": {
        "id": "_9bbgqfJGUqj"
      }
    },
    {
      "cell_type": "code",
      "execution_count": 1,
      "metadata": {
        "id": "O9YyNd8cFR9L"
      },
      "outputs": [],
      "source": [
        "import numpy as np\n",
        "import matplotlib.pyplot as plt\n",
        "import pandas as pd\n",
        "import seaborn as sns"
      ]
    },
    {
      "cell_type": "markdown",
      "source": [
        "Kode ini mengimpor pustaka penting untuk analisis dan visualisasi data. **NumPy** digunakan untuk operasi numerik. **Matplotlib.pyplot** membantu membuat grafik. **Pandas** memanipulasi data dalam bentuk tabel. **Seaborn** membuat visualisasi lebih estetis. Saat dijalankan, kode ini tidak menghasilkan output langsung."
      ],
      "metadata": {
        "id": "K66gDr0iHUsq"
      }
    },
    {
      "cell_type": "markdown",
      "source": [
        "# Langkah 2 - Load Data dan Visualisasi"
      ],
      "metadata": {
        "id": "8_PFwmdwHVXx"
      }
    },
    {
      "cell_type": "code",
      "source": [
        "df = pd.read_csv('/content/drive/MyDrive/dataset/iris.csv')\n",
        "setosa = df[df['Species'] == 'Iris-setosa']\n",
        "versicolor = df[df['Species'] == 'Iris-versicolor']\n",
        "virginica = df[df['Species'] == 'Iris-virginica']\n",
        "\n",
        "a, b = 'SepalLengthCm', 'PetalWidthCm'\n",
        "plt.scatter(setosa[a], setosa[b], color='red', marker='o', label='setosa')\n",
        "plt.scatter(versicolor[a], versicolor[b], color='blue', marker='x', label='versicolor')\n",
        "\n",
        "plt.xlabel('Petal Length')\n",
        "plt.ylabel('Sepal Length')\n",
        "plt.legend(loc='upper left')\n",
        "plt.grid()\n",
        "plt.show()\n",
        "print(df.head())"
      ],
      "metadata": {
        "id": "YoCy8LQiHcGQ",
        "outputId": "6fd00da4-cc49-49f2-86b3-dd7b2a722d55",
        "colab": {
          "base_uri": "https://localhost:8080/",
          "height": 558
        }
      },
      "execution_count": 42,
      "outputs": [
        {
          "output_type": "display_data",
          "data": {
            "text/plain": [
              "<Figure size 640x480 with 1 Axes>"
            ],
            "image/png": "[encoded data removed]"
          },
          "metadata": {}
        },
        {
          "output_type": "stream",
          "name": "stdout",
          "text": [
            "   Id  SepalLengthCm  SepalWidthCm  PetalLengthCm  PetalWidthCm      Species\n",
            "0   1            5.1           3.5            1.4           0.2  Iris-setosa\n",
            "1   2            4.9           3.0            1.4           0.2  Iris-setosa\n",
            "2   3            4.7           3.2            1.3           0.2  Iris-setosa\n",
            "3   4            4.6           3.1            1.5           0.2  Iris-setosa\n",
            "4   5            5.0           3.6            1.4           0.2  Iris-setosa\n"
          ]
        }
      ]
    },
    {
      "cell_type": "markdown",
      "source": [
        "Kode ini memuat dataset Iris dan membuat scatter plot untuk dua spesies bunga. Fungsi `pd.read_csv()` digunakan untuk membaca dataset dari file CSV ke dalam DataFrame. Data untuk spesies Setosa, Versicolor, dan Virginica dipisahkan menggunakan filter DataFrame berdasarkan kolom `Species`. Fungsi `plt.scatter()` digunakan untuk memplot dispersi berdasarkan `SepalLengthCm` dan `PetalWidthCm`, dengan label, legenda, dan grid untuk memperjelas visualisasi. Saat dijalankan, kode ini menampilkan scatter plot dan lima baris pertama dari dataset."
      ],
      "metadata": {
        "id": "8V5vnkcvMLz7"
      }
    },
    {
      "cell_type": "markdown",
      "source": [
        "# Langkah 3 - Membuat Kelas Perceptron"
      ],
      "metadata": {
        "id": "sTeq5vKGMN1s"
      }
    },
    {
      "cell_type": "code",
      "source": [
        "class Perceptron(object):\n",
        "    def __init__(self, eta=0.01, n_iter=10):\n",
        "        self.eta = eta  # Learning rate\n",
        "        self.n_iter = n_iter  # Jumlah iterasi\n",
        "\n",
        "    def fit(self, X, y):\n",
        "        # Inisialisasi bobot\n",
        "        self.w_ = np.zeros(1 + X.shape[1])\n",
        "        self.errors_ = []  # Menyimpan jumlah kesalahan setiap iterasi\n",
        "\n",
        "        for _ in range(self.n_iter):\n",
        "            errors = 0  # Reset jumlah kesalahan untuk iterasi ini\n",
        "            for xi, target in zip(X, y):\n",
        "                # Hitung pembaruan bobot\n",
        "                update = self.eta * (target - self.predict(xi))\n",
        "                self.w_[0] += update  # Pembaruan bias\n",
        "                self.w_[1:] += update * xi  # Pembaruan bobot fitur\n",
        "                errors += int(update != 0.0)  # Hitung kesalahan\n",
        "            self.errors_.append(errors)  # Simpan jumlah kesalahan\n",
        "        return self  # Kembalikan objek untuk chaining\n",
        "\n",
        "    def net_input(self, X):\n",
        "        # Hitung input bersih\n",
        "        return np.dot(X, self.w_[1:]) + self.w_[0]\n",
        "\n",
        "    def predict(self, X):\n",
        "        # Menghasilkan prediksi kelas\n",
        "        return np.where(self.net_input(X) >= 0.0, 1, -1)\n"
      ],
      "metadata": {
        "id": "hQJmg0VDJr2Y"
      },
      "execution_count": 43,
      "outputs": []
    },
    {
      "cell_type": "markdown",
      "source": [
        "Kode ini mendefinisikan kelas **Perceptron**, yang merupakan implementasi sederhana dari algoritma pembelajaran mesin untuk klasifikasi. Kelas ini memiliki konstruktor yang menginisialisasi laju pembelajaran (`eta`) dan jumlah iterasi (`n_iter`). Metode **`fit()`** digunakan untuk melatih model dengan data fitur (`X`) dan label target (`y`), yang juga mencakup pembaruan bobot berdasarkan kesalahan prediksi. Fungsi **`net_input()`** menghitung input bersih dari model, sedangkan **`predict()`** menghasilkan prediksi kelas berdasarkan input. Saat dijalankan, objek kelas ini akan dilatih dengan data dan menghasilkan bobot yang diperbarui untuk klasifikasi."
      ],
      "metadata": {
        "id": "to94apsTP5r9"
      }
    },
    {
      "cell_type": "markdown",
      "source": [
        "# Langkah 4 - Pilih Data dan Encoding Label"
      ],
      "metadata": {
        "id": "QOlG35reMYf7"
      }
    },
    {
      "cell_type": "code",
      "source": [
        "# Memilih 100 data awal dari kolom 'Species'\n",
        "y = df.iloc[0:100, 5].values  # Indeks 5 untuk kolom 'Species'\n",
        "y = np.where(y == 'Iris-setosa', -1, 1)  # Ganti label: -1 untuk 'Iris-setosa', 1 untuk 'Iris-versicolor'\n",
        "\n",
        "# Mengambil fitur dari kolom 'SepalLengthCm' (1) dan 'PetalLengthCm' (2)\n",
        "X = df.iloc[0:100, [1, 4]].values  # Indeks 1 untuk 'SepalLengthCm' dan indeks 2 untuk 'PetalLengthCm'"
      ],
      "metadata": {
        "id": "1JGyWlp6Max1"
      },
      "execution_count": 47,
      "outputs": []
    },
    {
      "cell_type": "markdown",
      "source": [
        "Kode ini memilih 100 data pertama dari dataset Iris dan menyiapkan data untuk pelatihan model. Pertama, variabel **`y`** diisi dengan label spesies dari kolom 'Species', di mana 'Iris-setosa' diubah menjadi -1 dan 'Iris-versicolor' menjadi 1. Kemudian, fitur **`X`** diambil dari kolom 'SepalLengthCm' dan 'PetalLengthCm', yang akan digunakan sebagai input untuk model. Data ini mempersiapkan model untuk klasifikasi dengan dua fitur yang relevan. Saat dijalankan, kode ini menghasilkan array `y` untuk label dan `X` untuk fitur dari 100 data awal."
      ],
      "metadata": {
        "id": "xQc5S7b5QCts"
      }
    },
    {
      "cell_type": "markdown",
      "source": [
        "# Langkah 5 - Fitting Model"
      ],
      "metadata": {
        "id": "iPGsLF6_McIu"
      }
    },
    {
      "cell_type": "code",
      "source": [
        "ppn = Perceptron(eta=0.1, n_iter=10)\n",
        "ppn.fit(X, y)"
      ],
      "metadata": {
        "id": "HxfU4pB5MemW",
        "outputId": "049c96fe-4144-4809-b7a0-1985d27a659e",
        "colab": {
          "base_uri": "https://localhost:8080/"
        }
      },
      "execution_count": 48,
      "outputs": [
        {
          "output_type": "execute_result",
          "data": {
            "text/plain": [
              "<__main__.Perceptron at 0x788ca2072d40>"
            ]
          },
          "metadata": {},
          "execution_count": 48
        }
      ]
    },
    {
      "cell_type": "markdown",
      "source": [
        "Kode ini membuat objek **Perceptron** dengan laju pembelajaran (`eta`) sebesar 0.1 dan jumlah iterasi (`n_iter`) sebanyak 10. Metode **`fit()`** kemudian dipanggil dengan data fitur **`X`** dan label target **`y`** yang telah disiapkan sebelumnya. Proses ini melatih model Perceptron untuk mengklasifikasikan data, memperbarui bobot berdasarkan kesalahan prediksi selama iterasi. Saat dijalankan, kode ini akan melatih model dan menyimpan bobot serta jumlah kesalahan untuk analisis lebih lanjut."
      ],
      "metadata": {
        "id": "mRWkY5VpQJjS"
      }
    },
    {
      "cell_type": "markdown",
      "source": [
        "# Langkah 6 - Visualisasi Nilai Error Per Epoch"
      ],
      "metadata": {
        "id": "kXB0I3_lMfTn"
      }
    },
    {
      "cell_type": "code",
      "source": [
        "plt.plot(range(1, len(ppn.errors_)+1), ppn.errors_)\n",
        "plt.xlabel('Epochs')\n",
        "plt.ylabel('Number of updates')\n",
        "plt.show()"
      ],
      "metadata": {
        "id": "KQuO9fuqMioz",
        "outputId": "c3f227ae-726e-4d31-80d2-c5d0916f24e6",
        "colab": {
          "base_uri": "https://localhost:8080/",
          "height": 449
        }
      },
      "execution_count": 49,
      "outputs": [
        {
          "output_type": "display_data",
          "data": {
            "text/plain": [
              "<Figure size 640x480 with 1 Axes>"
            ],
            "image/png": "[encoded data removed]"
          },
          "metadata": {}
        }
      ]
    },
    {
      "cell_type": "markdown",
      "source": [
        "Kode ini menghasilkan grafik yang menunjukkan jumlah pembaruan bobot (errors) pada setiap epoch selama pelatihan model Perceptron. Fungsi **`plt.plot()`** digunakan untuk memplot jumlah kesalahan dari setiap epoch, di mana sumbu x menunjukkan epoch dan sumbu y menunjukkan jumlah pembaruan. Label sumbu ditambahkan menggunakan **`plt.xlabel()`** dan **`plt.ylabel()`** untuk memperjelas informasi yang ditampilkan. Saat dijalankan, kode ini menampilkan grafik yang memberikan gambaran tentang kinerja model selama proses pelatihan."
      ],
      "metadata": {
        "id": "FhjyeLxxQQV-"
      }
    },
    {
      "cell_type": "markdown",
      "source": [
        "# Langkah 7 - Visualiasasi Decision Boundary"
      ],
      "metadata": {
        "id": "NZZGl9pbNwH_"
      }
    },
    {
      "cell_type": "code",
      "source": [
        "from matplotlib.colors import ListedColormap\n",
        "\n",
        "def plot_decision_regions(X, y, classifier, resolution=0.02):\n",
        "    # Setup marker generator and color map\n",
        "    markers = ('s', 'x', 'o', '^', 'v')\n",
        "    colors = ('r', 'b', 'g', 'k', 'grey')\n",
        "    cmap = ListedColormap(colors[:len(np.unique(y))])\n",
        "\n",
        "    # Plot the decision regions by creating a pair of grid arrays xx1 and xx2 via meshgrid function in Numpy\n",
        "    x1_min, x1_max = X[:, 0].min() - 1, X[:, 0].max() + 1\n",
        "    x2_min, x2_max = X[:, 1].min() - 1, X[:, 1].max() + 1\n",
        "    xx1, xx2 = np.meshgrid(np.arange(x1_min, x1_max, resolution), np.arange(x2_min, x2_max, resolution))\n",
        "\n",
        "    # Use predict method to predict the class labels z of the grid points\n",
        "    Z = classifier.predict(np.array([xx1.ravel(), xx2.ravel()]).T)\n",
        "    Z = Z.reshape(xx1.shape)\n",
        "\n",
        "    # Draw the contour using matplotlib\n",
        "    plt.contourf(xx1, xx2, Z, alpha=0.4, cmap=cmap)\n",
        "    plt.xlim(xx1.min(), xx1.max())\n",
        "    plt.ylim(xx2.min(), xx2.max())\n",
        "\n",
        "    # Plot class samples\n",
        "    for i, cl in enumerate(np.unique(y)):\n",
        "        plt.scatter(x=X[y == cl, 0], y=X[y == cl, 1], alpha=0.8, color=cmap(i), marker=markers[i], label=cl)\n",
        "\n",
        "# Menampilkan decision boundary\n",
        "plot_decision_regions(X, y, ppn)\n",
        "plt.title('Hasil Decision Boundary')\n",
        "plt.xlabel('Sepal Length [cm]')\n",
        "plt.ylabel('Petal Length [cm]')\n",
        "plt.legend(loc='upper left')\n",
        "plt.show()"
      ],
      "metadata": {
        "id": "oAZfMC2KNzMC",
        "outputId": "ee7bf7ff-c172-43a8-ccdc-0b33d1a8eba8",
        "colab": {
          "base_uri": "https://localhost:8080/",
          "height": 472
        }
      },
      "execution_count": 59,
      "outputs": [
        {
          "output_type": "display_data",
          "data": {
            "text/plain": [
              "<Figure size 640x480 with 1 Axes>"
            ],
            "image/png": "[encoded data removed]"
          },
          "metadata": {}
        }
      ]
    },
    {
      "cell_type": "markdown",
      "source": [
        "Kode ini mendefinisikan fungsi **`plot_decision_regions()`** yang digunakan untuk memvisualisasikan batas keputusan model klasifikasi. Fungsi ini menerima data fitur **`X`**, label target **`y`**, dan objek **classifier** (dalam hal ini, model Perceptron). Pertama, kode mengatur marker dan warna untuk setiap kelas, lalu membuat grid dari titik-titik dalam ruang fitur menggunakan fungsi **`meshgrid()`**. Selanjutnya, metode **`predict()`** digunakan untuk memprediksi label kelas dari titik-titik dalam grid tersebut, dan hasilnya diubah menjadi bentuk yang sesuai untuk plot. Kontur batas keputusan digambar dengan **`plt.contourf()`**, diikuti dengan plot titik data berdasarkan kelas mereka. Saat dijalankan, kode ini menampilkan visualisasi batas keputusan model Perceptron terhadap data Iris, menunjukkan bagaimana model membagi ruang fitur."
      ],
      "metadata": {
        "id": "xluu9hhUQVOQ"
      }
    },
    {
      "cell_type": "markdown",
      "source": [
        "# Praktikum 2: Klasifikasi Berita dengan Perceptron\n",
        "# Langkah 1 - Import Library"
      ],
      "metadata": {
        "id": "0qqAraR2QV2s"
      }
    },
    {
      "cell_type": "code",
      "source": [
        "from sklearn.datasets import fetch_20newsgroups # download dataset\n",
        "from sklearn.feature_extraction.text import TfidfVectorizer\n",
        "from sklearn.linear_model import Perceptron\n",
        "from sklearn.metrics import f1_score, classification_report"
      ],
      "metadata": {
        "id": "fB0YcFMSQnH4"
      },
      "execution_count": 60,
      "outputs": []
    },
    {
      "cell_type": "markdown",
      "source": [
        "Kode ini mengimpor berbagai pustaka dari **scikit-learn** untuk mempersiapkan dan melatih model Perceptron pada dataset teks. Fungsi **`fetch_20newsgroups`** digunakan untuk mengunduh dataset yang berisi 20 kelompok berita. Sementara itu, **`TfidfVectorizer`** berfungsi untuk mengubah teks menjadi representasi numerik menggunakan metode TF-IDF (Term Frequency-Inverse Document Frequency). Kelas **`Perceptron`** dari **sklearn.linear_model** digunakan untuk membuat model klasifikasi berbasis Perceptron. Selain itu, fungsi **`f1_score`** dan **`classification_report`** digunakan untuk mengevaluasi kinerja model setelah pelatihan."
      ],
      "metadata": {
        "id": "nHSN3e3AQ3hU"
      }
    },
    {
      "cell_type": "markdown",
      "source": [
        "# Langkah 2 - Pilih Label dan Split Data"
      ],
      "metadata": {
        "id": "t5vWiryHQ5e3"
      }
    },
    {
      "cell_type": "code",
      "source": [
        "categories = ['rec.sport.hockey', 'rec.sport.baseball', 'rec.autos']\n",
        "newsgroups_train = fetch_20newsgroups(subset='train', categories=categories, remove=('headers', 'footers', 'quotes'))\n",
        "newsgroups_test = fetch_20newsgroups(subset='test', categories=categories, remove=('headers', 'footers', 'quotes'))"
      ],
      "metadata": {
        "id": "UB_fUL7EQ89h"
      },
      "execution_count": 61,
      "outputs": []
    },
    {
      "cell_type": "markdown",
      "source": [
        "Kode ini mengunduh subset dari dataset **20 Newsgroups** yang berfokus pada tiga kategori tertentu: **'rec.sport.hockey'**, **'rec.sport.baseball'**, dan **'rec.autos'**. Fungsi **`fetch_20newsgroups()`** dipanggil dengan parameter `subset` untuk memisahkan data menjadi bagian pelatihan (`train`) dan pengujian (`test`). Selain itu, opsi `remove` digunakan untuk menghapus elemen seperti header, footer, dan kutipan dari setiap dokumen, sehingga hanya teks utama yang digunakan. Data pelatihan disimpan dalam variabel **`newsgroups_train`** dan data pengujian dalam **`newsgroups_test`**. Saat dijalankan, kode ini mempersiapkan dataset yang bersih untuk analisis lebih lanjut menggunakan model klasifikasi."
      ],
      "metadata": {
        "id": "QcjwLFdXRUdb"
      }
    },
    {
      "cell_type": "markdown",
      "source": [
        "# Langkah 3 - Ekstrak Fitur dan Buat Model Perceptron"
      ],
      "metadata": {
        "id": "ARx0eOQjRMor"
      }
    },
    {
      "cell_type": "code",
      "source": [
        "# Ekstrak Fitur\n",
        "vectorizer = TfidfVectorizer()\n",
        "\n",
        "# Fit fitur\n",
        "X_train = vectorizer.fit_transform(newsgroups_train.data)\n",
        "X_test = vectorizer.transform(newsgroups_test.data)\n",
        "\n",
        "# Fit Model\n",
        "clf = Perceptron(random_state=11)\n",
        "clf.fit(X_train, newsgroups_train.target)\n",
        "\n",
        "# Prediksi\n",
        "predictions = clf.predict(X_test)\n",
        "print(classification_report(newsgroups_test.target, predictions))"
      ],
      "metadata": {
        "id": "4hXNEjFYRPjU",
        "outputId": "5846f7b0-99c3-4bb0-9a44-e83b546ad56e",
        "colab": {
          "base_uri": "https://localhost:8080/"
        }
      },
      "execution_count": 62,
      "outputs": [
        {
          "output_type": "stream",
          "name": "stdout",
          "text": [
            "              precision    recall  f1-score   support\n",
            "\n",
            "           0       0.88      0.88      0.88       396\n",
            "           1       0.82      0.83      0.83       397\n",
            "           2       0.88      0.87      0.87       399\n",
            "\n",
            "    accuracy                           0.86      1192\n",
            "   macro avg       0.86      0.86      0.86      1192\n",
            "weighted avg       0.86      0.86      0.86      1192\n",
            "\n"
          ]
        }
      ]
    },
    {
      "cell_type": "markdown",
      "source": [
        "Dataset yang digunakan pada kode program diatas adalah 20newsgroup yang terdiri dari sekitar 20.000 dokumen. Scikit-learn bahkan menyediakan fungsi yang memberikan kemudahan untuk mengunduh dan membaca kumpulan dataset dengan menggunakan sklearn.datasets. pada kode program diatas Perceptron mampu melakukan klasifikasi multikelas; strategi yang digunakan adalah one-versus-all untuk melakukan pelatihan untuk setiap kelas dalam data training. Dokumen teks memerlukan ekstraksi fitur salah satunya adalah bobot tf-idf pada kodeprogram diatas digunakan tfidf-vectorizer."
      ],
      "metadata": {
        "id": "2KUKmBQlRmFr"
      }
    },
    {
      "cell_type": "markdown",
      "source": [
        "# Praktikum 3: Nilai Logika XOR dengan MLP"
      ],
      "metadata": {
        "id": "7NBl-0bhRuLc"
      }
    },
    {
      "cell_type": "markdown",
      "source": [
        "# Langkah 1 - Import Library"
      ],
      "metadata": {
        "id": "H-G1qONzR7nT"
      }
    },
    {
      "cell_type": "code",
      "source": [
        "from sklearn.neural_network import MLPClassifier"
      ],
      "metadata": {
        "id": "QIXPAGN7R9lJ"
      },
      "execution_count": 63,
      "outputs": []
    },
    {
      "cell_type": "markdown",
      "source": [
        "Kode ini mengimpor **`MLPClassifier`** dari pustaka **scikit-learn**, yang merupakan implementasi dari Multi-layer Perceptron (MLP) untuk klasifikasi. MLP adalah jenis jaringan saraf tiruan yang dapat digunakan untuk menyelesaikan masalah klasifikasi dan regresi. Kelas ini memungkinkan pengguna untuk menentukan jumlah lapisan tersembunyi dan neuron di setiap lapisan, serta fungsi aktivasi yang digunakan. Setelah objek **`MLPClassifier`** dibuat, model dapat dilatih menggunakan data pelatihan dan kemudian digunakan untuk membuat prediksi pada data baru. Saat dijalankan, kode ini mempersiapkan pustaka yang diperlukan untuk membangun dan melatih model jaringan saraf."
      ],
      "metadata": {
        "id": "S-tv9-34SEgU"
      }
    },
    {
      "cell_type": "markdown",
      "source": [
        "# Langah 2 - Buat Data"
      ],
      "metadata": {
        "id": "URKw0oF6SFhl"
      }
    },
    {
      "cell_type": "code",
      "source": [
        "y = [0, 1, 1, 0] # label\n",
        "X = [[0, 0], [0, 1], [1, 0], [1, 1]] # data"
      ],
      "metadata": {
        "id": "HsrzPvemSJl9"
      },
      "execution_count": 64,
      "outputs": []
    },
    {
      "cell_type": "markdown",
      "source": [
        "Kode ini mendefinisikan label dan data untuk dataset sederhana yang dapat digunakan dalam tugas klasifikasi. Variabel **`y`** berisi label biner untuk empat contoh data, di mana `0` dan `1` menunjukkan dua kelas yang berbeda. Variabel **`X`** adalah daftar dari empat pasangan nilai yang mewakili fitur untuk setiap contoh, yang diorganisir dalam bentuk list dua dimensi. Dataset ini sering digunakan untuk menguji algoritma klasifikasi, seperti dalam masalah logika dasar (misalnya, AND, OR, atau XOR). Saat dijalankan, kode ini mempersiapkan data yang dapat langsung digunakan untuk melatih model klasifikasi."
      ],
      "metadata": {
        "id": "eWfER1L6SPIb"
      }
    },
    {
      "cell_type": "markdown",
      "source": [
        "# Langkah 3 - Fit Model"
      ],
      "metadata": {
        "id": "CQ46m9PaSPwE"
      }
    },
    {
      "cell_type": "code",
      "source": [
        "# Fit model\n",
        "clf = MLPClassifier(solver='lbfgs', activation='logistic', hidden_layer_sizes=(2,), max_iter=100, random_state=20)\n",
        "clf.fit(X, y)"
      ],
      "metadata": {
        "id": "N5hlV6aMSTHN",
        "outputId": "b88240b7-8d9d-46dc-e9db-bfd6842e2998",
        "colab": {
          "base_uri": "https://localhost:8080/",
          "height": 97
        }
      },
      "execution_count": 65,
      "outputs": [
        {
          "output_type": "execute_result",
          "data": {
            "text/plain": [
              "MLPClassifier(activation='logistic', hidden_layer_sizes=(2,), max_iter=100,\n",
              "              random_state=20, solver='lbfgs')"
            ],
            "text/html": [
              "<style>#sk-container-id-1 {\n",
              "  /* Definition of color scheme common for light and dark mode */\n",
              "  --sklearn-color-text: black;\n",
              "  --sklearn-color-line: gray;\n",
              "  /* Definition of color scheme for unfitted estimators */\n",
              "  --sklearn-color-unfitted-level-0: #fff5e6;\n",
              "  --sklearn-color-unfitted-level-1: #f6e4d2;\n",
              "  --sklearn-color-unfitted-level-2: #ffe0b3;\n",
              "  --sklearn-color-unfitted-level-3: chocolate;\n",
              "  /* Definition of color scheme for fitted estimators */\n",
              "  --sklearn-color-fitted-level-0: #f0f8ff;\n",
              "  --sklearn-color-fitted-level-1: #d4ebff;\n",
              "  --sklearn-color-fitted-level-2: #b3dbfd;\n",
              "  --sklearn-color-fitted-level-3: cornflowerblue;\n",
              "\n",
              "  /* Specific color for light theme */\n",
              "  --sklearn-color-text-on-default-background: var(--sg-text-color, var(--theme-code-foreground, var(--jp-content-font-color1, black)));\n",
              "  --sklearn-color-background: var(--sg-background-color, var(--theme-background, var(--jp-layout-color0, white)));\n",
              "  --sklearn-color-border-box: var(--sg-text-color, var(--theme-code-foreground, var(--jp-content-font-color1, black)));\n",
              "  --sklearn-color-icon: #696969;\n",
              "\n",
              "  @media (prefers-color-scheme: dark) {\n",
              "    /* Redefinition of color scheme for dark theme */\n",
              "    --sklearn-color-text-on-default-background: var(--sg-text-color, var(--theme-code-foreground, var(--jp-content-font-color1, white)));\n",
              "    --sklearn-color-background: var(--sg-background-color, var(--theme-background, var(--jp-layout-color0, #111)));\n",
              "    --sklearn-color-border-box: var(--sg-text-color, var(--theme-code-foreground, var(--jp-content-font-color1, white)));\n",
              "    --sklearn-color-icon: #878787;\n",
              "  }\n",
              "}\n",
              "\n",
              "#sk-container-id-1 {\n",
              "  color: var(--sklearn-color-text);\n",
              "}\n",
              "\n",
              "#sk-container-id-1 pre {\n",
              "  padding: 0;\n",
              "}\n",
              "\n",
              "#sk-container-id-1 input.sk-hidden--visually {\n",
              "  border: 0;\n",
              "  clip: rect(1px 1px 1px 1px);\n",
              "  clip: rect(1px, 1px, 1px, 1px);\n",
              "  height: 1px;\n",
              "  margin: -1px;\n",
              "  overflow: hidden;\n",
              "  padding: 0;\n",
              "  position: absolute;\n",
              "  width: 1px;\n",
              "}\n",
              "\n",
              "#sk-container-id-1 div.sk-dashed-wrapped {\n",
              "  border: 1px dashed var(--sklearn-color-line);\n",
              "  margin: 0 0.4em 0.5em 0.4em;\n",
              "  box-sizing: border-box;\n",
              "  padding-bottom: 0.4em;\n",
              "  background-color: var(--sklearn-color-background);\n",
              "}\n",
              "\n",
              "#sk-container-id-1 div.sk-container {\n",
              "  /* jupyter's `normalize.less` sets `[hidden] { display: none; }`\n",
              "     but bootstrap.min.css set `[hidden] { display: none !important; }`\n",
              "     so we also need the `!important` here to be able to override the\n",
              "     default hidden behavior on the sphinx rendered scikit-learn.org.\n",
              "     See: https://github.com/scikit-learn/scikit-learn/issues/21755 */\n",
              "  display: inline-block !important;\n",
              "  position: relative;\n",
              "}\n",
              "\n",
              "#sk-container-id-1 div.sk-text-repr-fallback {\n",
              "  display: none;\n",
              "}\n",
              "\n",
              "div.sk-parallel-item,\n",
              "div.sk-serial,\n",
              "div.sk-item {\n",
              "  /* draw centered vertical line to link estimators */\n",
              "  background-image: linear-gradient(var(--sklearn-color-text-on-default-background), var(--sklearn-color-text-on-default-background));\n",
              "  background-size: 2px 100%;\n",
              "  background-repeat: no-repeat;\n",
              "  background-position: center center;\n",
              "}\n",
              "\n",
              "/* Parallel-specific style estimator block */\n",
              "\n",
              "#sk-container-id-1 div.sk-parallel-item::after {\n",
              "  content: \"\";\n",
              "  width: 100%;\n",
              "  border-bottom: 2px solid var(--sklearn-color-text-on-default-background);\n",
              "  flex-grow: 1;\n",
              "}\n",
              "\n",
              "#sk-container-id-1 div.sk-parallel {\n",
              "  display: flex;\n",
              "  align-items: stretch;\n",
              "  justify-content: center;\n",
              "  background-color: var(--sklearn-color-background);\n",
              "  position: relative;\n",
              "}\n",
              "\n",
              "#sk-container-id-1 div.sk-parallel-item {\n",
              "  display: flex;\n",
              "  flex-direction: column;\n",
              "}\n",
              "\n",
              "#sk-container-id-1 div.sk-parallel-item:first-child::after {\n",
              "  align-self: flex-end;\n",
              "  width: 50%;\n",
              "}\n",
              "\n",
              "#sk-container-id-1 div.sk-parallel-item:last-child::after {\n",
              "  align-self: flex-start;\n",
              "  width: 50%;\n",
              "}\n",
              "\n",
              "#sk-container-id-1 div.sk-parallel-item:only-child::after {\n",
              "  width: 0;\n",
              "}\n",
              "\n",
              "/* Serial-specific style estimator block */\n",
              "\n",
              "#sk-container-id-1 div.sk-serial {\n",
              "  display: flex;\n",
              "  flex-direction: column;\n",
              "  align-items: center;\n",
              "  background-color: var(--sklearn-color-background);\n",
              "  padding-right: 1em;\n",
              "  padding-left: 1em;\n",
              "}\n",
              "\n",
              "\n",
              "/* Toggleable style: style used for estimator/Pipeline/ColumnTransformer box that is\n",
              "clickable and can be expanded/collapsed.\n",
              "- Pipeline and ColumnTransformer use this feature and define the default style\n",
              "- Estimators will overwrite some part of the style using the `sk-estimator` class\n",
              "*/\n",
              "\n",
              "/* Pipeline and ColumnTransformer style (default) */\n",
              "\n",
              "#sk-container-id-1 div.sk-toggleable {\n",
              "  /* Default theme specific background. It is overwritten whether we have a\n",
              "  specific estimator or a Pipeline/ColumnTransformer */\n",
              "  background-color: var(--sklearn-color-background);\n",
              "}\n",
              "\n",
              "/* Toggleable label */\n",
              "#sk-container-id-1 label.sk-toggleable__label {\n",
              "  cursor: pointer;\n",
              "  display: block;\n",
              "  width: 100%;\n",
              "  margin-bottom: 0;\n",
              "  padding: 0.5em;\n",
              "  box-sizing: border-box;\n",
              "  text-align: center;\n",
              "}\n",
              "\n",
              "#sk-container-id-1 label.sk-toggleable__label-arrow:before {\n",
              "  /* Arrow on the left of the label */\n",
              "  content: \"▸\";\n",
              "  float: left;\n",
              "  margin-right: 0.25em;\n",
              "  color: var(--sklearn-color-icon);\n",
              "}\n",
              "\n",
              "#sk-container-id-1 label.sk-toggleable__label-arrow:hover:before {\n",
              "  color: var(--sklearn-color-text);\n",
              "}\n",
              "\n",
              "/* Toggleable content - dropdown */\n",
              "\n",
              "#sk-container-id-1 div.sk-toggleable__content {\n",
              "  max-height: 0;\n",
              "  max-width: 0;\n",
              "  overflow: hidden;\n",
              "  text-align: left;\n",
              "  /* unfitted */\n",
              "  background-color: var(--sklearn-color-unfitted-level-0);\n",
              "}\n",
              "\n",
              "#sk-container-id-1 div.sk-toggleable__content.fitted {\n",
              "  /* fitted */\n",
              "  background-color: var(--sklearn-color-fitted-level-0);\n",
              "}\n",
              "\n",
              "#sk-container-id-1 div.sk-toggleable__content pre {\n",
              "  margin: 0.2em;\n",
              "  border-radius: 0.25em;\n",
              "  color: var(--sklearn-color-text);\n",
              "  /* unfitted */\n",
              "  background-color: var(--sklearn-color-unfitted-level-0);\n",
              "}\n",
              "\n",
              "#sk-container-id-1 div.sk-toggleable__content.fitted pre {\n",
              "  /* unfitted */\n",
              "  background-color: var(--sklearn-color-fitted-level-0);\n",
              "}\n",
              "\n",
              "#sk-container-id-1 input.sk-toggleable__control:checked~div.sk-toggleable__content {\n",
              "  /* Expand drop-down */\n",
              "  max-height: 200px;\n",
              "  max-width: 100%;\n",
              "  overflow: auto;\n",
              "}\n",
              "\n",
              "#sk-container-id-1 input.sk-toggleable__control:checked~label.sk-toggleable__label-arrow:before {\n",
              "  content: \"▾\";\n",
              "}\n",
              "\n",
              "/* Pipeline/ColumnTransformer-specific style */\n",
              "\n",
              "#sk-container-id-1 div.sk-label input.sk-toggleable__control:checked~label.sk-toggleable__label {\n",
              "  color: var(--sklearn-color-text);\n",
              "  background-color: var(--sklearn-color-unfitted-level-2);\n",
              "}\n",
              "\n",
              "#sk-container-id-1 div.sk-label.fitted input.sk-toggleable__control:checked~label.sk-toggleable__label {\n",
              "  background-color: var(--sklearn-color-fitted-level-2);\n",
              "}\n",
              "\n",
              "/* Estimator-specific style */\n",
              "\n",
              "/* Colorize estimator box */\n",
              "#sk-container-id-1 div.sk-estimator input.sk-toggleable__control:checked~label.sk-toggleable__label {\n",
              "  /* unfitted */\n",
              "  background-color: var(--sklearn-color-unfitted-level-2);\n",
              "}\n",
              "\n",
              "#sk-container-id-1 div.sk-estimator.fitted input.sk-toggleable__control:checked~label.sk-toggleable__label {\n",
              "  /* fitted */\n",
              "  background-color: var(--sklearn-color-fitted-level-2);\n",
              "}\n",
              "\n",
              "#sk-container-id-1 div.sk-label label.sk-toggleable__label,\n",
              "#sk-container-id-1 div.sk-label label {\n",
              "  /* The background is the default theme color */\n",
              "  color: var(--sklearn-color-text-on-default-background);\n",
              "}\n",
              "\n",
              "/* On hover, darken the color of the background */\n",
              "#sk-container-id-1 div.sk-label:hover label.sk-toggleable__label {\n",
              "  color: var(--sklearn-color-text);\n",
              "  background-color: var(--sklearn-color-unfitted-level-2);\n",
              "}\n",
              "\n",
              "/* Label box, darken color on hover, fitted */\n",
              "#sk-container-id-1 div.sk-label.fitted:hover label.sk-toggleable__label.fitted {\n",
              "  color: var(--sklearn-color-text);\n",
              "  background-color: var(--sklearn-color-fitted-level-2);\n",
              "}\n",
              "\n",
              "/* Estimator label */\n",
              "\n",
              "#sk-container-id-1 div.sk-label label {\n",
              "  font-family: monospace;\n",
              "  font-weight: bold;\n",
              "  display: inline-block;\n",
              "  line-height: 1.2em;\n",
              "}\n",
              "\n",
              "#sk-container-id-1 div.sk-label-container {\n",
              "  text-align: center;\n",
              "}\n",
              "\n",
              "/* Estimator-specific */\n",
              "#sk-container-id-1 div.sk-estimator {\n",
              "  font-family: monospace;\n",
              "  border: 1px dotted var(--sklearn-color-border-box);\n",
              "  border-radius: 0.25em;\n",
              "  box-sizing: border-box;\n",
              "  margin-bottom: 0.5em;\n",
              "  /* unfitted */\n",
              "  background-color: var(--sklearn-color-unfitted-level-0);\n",
              "}\n",
              "\n",
              "#sk-container-id-1 div.sk-estimator.fitted {\n",
              "  /* fitted */\n",
              "  background-color: var(--sklearn-color-fitted-level-0);\n",
              "}\n",
              "\n",
              "/* on hover */\n",
              "#sk-container-id-1 div.sk-estimator:hover {\n",
              "  /* unfitted */\n",
              "  background-color: var(--sklearn-color-unfitted-level-2);\n",
              "}\n",
              "\n",
              "#sk-container-id-1 div.sk-estimator.fitted:hover {\n",
              "  /* fitted */\n",
              "  background-color: var(--sklearn-color-fitted-level-2);\n",
              "}\n",
              "\n",
              "/* Specification for estimator info (e.g. \"i\" and \"?\") */\n",
              "\n",
              "/* Common style for \"i\" and \"?\" */\n",
              "\n",
              ".sk-estimator-doc-link,\n",
              "a:link.sk-estimator-doc-link,\n",
              "a:visited.sk-estimator-doc-link {\n",
              "  float: right;\n",
              "  font-size: smaller;\n",
              "  line-height: 1em;\n",
              "  font-family: monospace;\n",
              "  background-color: var(--sklearn-color-background);\n",
              "  border-radius: 1em;\n",
              "  height: 1em;\n",
              "  width: 1em;\n",
              "  text-decoration: none !important;\n",
              "  margin-left: 1ex;\n",
              "  /* unfitted */\n",
              "  border: var(--sklearn-color-unfitted-level-1) 1pt solid;\n",
              "  color: var(--sklearn-color-unfitted-level-1);\n",
              "}\n",
              "\n",
              ".sk-estimator-doc-link.fitted,\n",
              "a:link.sk-estimator-doc-link.fitted,\n",
              "a:visited.sk-estimator-doc-link.fitted {\n",
              "  /* fitted */\n",
              "  border: var(--sklearn-color-fitted-level-1) 1pt solid;\n",
              "  color: var(--sklearn-color-fitted-level-1);\n",
              "}\n",
              "\n",
              "/* On hover */\n",
              "div.sk-estimator:hover .sk-estimator-doc-link:hover,\n",
              ".sk-estimator-doc-link:hover,\n",
              "div.sk-label-container:hover .sk-estimator-doc-link:hover,\n",
              ".sk-estimator-doc-link:hover {\n",
              "  /* unfitted */\n",
              "  background-color: var(--sklearn-color-unfitted-level-3);\n",
              "  color: var(--sklearn-color-background);\n",
              "  text-decoration: none;\n",
              "}\n",
              "\n",
              "div.sk-estimator.fitted:hover .sk-estimator-doc-link.fitted:hover,\n",
              ".sk-estimator-doc-link.fitted:hover,\n",
              "div.sk-label-container:hover .sk-estimator-doc-link.fitted:hover,\n",
              ".sk-estimator-doc-link.fitted:hover {\n",
              "  /* fitted */\n",
              "  background-color: var(--sklearn-color-fitted-level-3);\n",
              "  color: var(--sklearn-color-background);\n",
              "  text-decoration: none;\n",
              "}\n",
              "\n",
              "/* Span, style for the box shown on hovering the info icon */\n",
              ".sk-estimator-doc-link span {\n",
              "  display: none;\n",
              "  z-index: 9999;\n",
              "  position: relative;\n",
              "  font-weight: normal;\n",
              "  right: .2ex;\n",
              "  padding: .5ex;\n",
              "  margin: .5ex;\n",
              "  width: min-content;\n",
              "  min-width: 20ex;\n",
              "  max-width: 50ex;\n",
              "  color: var(--sklearn-color-text);\n",
              "  box-shadow: 2pt 2pt 4pt #999;\n",
              "  /* unfitted */\n",
              "  background: var(--sklearn-color-unfitted-level-0);\n",
              "  border: .5pt solid var(--sklearn-color-unfitted-level-3);\n",
              "}\n",
              "\n",
              ".sk-estimator-doc-link.fitted span {\n",
              "  /* fitted */\n",
              "  background: var(--sklearn-color-fitted-level-0);\n",
              "  border: var(--sklearn-color-fitted-level-3);\n",
              "}\n",
              "\n",
              ".sk-estimator-doc-link:hover span {\n",
              "  display: block;\n",
              "}\n",
              "\n",
              "/* \"?\"-specific style due to the `<a>` HTML tag */\n",
              "\n",
              "#sk-container-id-1 a.estimator_doc_link {\n",
              "  float: right;\n",
              "  font-size: 1rem;\n",
              "  line-height: 1em;\n",
              "  font-family: monospace;\n",
              "  background-color: var(--sklearn-color-background);\n",
              "  border-radius: 1rem;\n",
              "  height: 1rem;\n",
              "  width: 1rem;\n",
              "  text-decoration: none;\n",
              "  /* unfitted */\n",
              "  color: var(--sklearn-color-unfitted-level-1);\n",
              "  border: var(--sklearn-color-unfitted-level-1) 1pt solid;\n",
              "}\n",
              "\n",
              "#sk-container-id-1 a.estimator_doc_link.fitted {\n",
              "  /* fitted */\n",
              "  border: var(--sklearn-color-fitted-level-1) 1pt solid;\n",
              "  color: var(--sklearn-color-fitted-level-1);\n",
              "}\n",
              "\n",
              "/* On hover */\n",
              "#sk-container-id-1 a.estimator_doc_link:hover {\n",
              "  /* unfitted */\n",
              "  background-color: var(--sklearn-color-unfitted-level-3);\n",
              "  color: var(--sklearn-color-background);\n",
              "  text-decoration: none;\n",
              "}\n",
              "\n",
              "#sk-container-id-1 a.estimator_doc_link.fitted:hover {\n",
              "  /* fitted */\n",
              "  background-color: var(--sklearn-color-fitted-level-3);\n",
              "}\n",
              "</style><div id=\"sk-container-id-1\" class=\"sk-top-container\"><div class=\"sk-text-repr-fallback\"><pre>MLPClassifier(activation=&#x27;logistic&#x27;, hidden_layer_sizes=(2,), max_iter=100,\n",
              "              random_state=20, solver=&#x27;lbfgs&#x27;)</pre><b>In a Jupyter environment, please rerun this cell to show the HTML representation or trust the notebook. <br />On GitHub, the HTML representation is unable to render, please try loading this page with nbviewer.org.</b></div><div class=\"sk-container\" hidden><div class=\"sk-item\"><div class=\"sk-estimator fitted sk-toggleable\"><input class=\"sk-toggleable__control sk-hidden--visually\" id=\"sk-estimator-id-1\" type=\"checkbox\" checked><label for=\"sk-estimator-id-1\" class=\"sk-toggleable__label fitted sk-toggleable__label-arrow fitted\">&nbsp;&nbsp;MLPClassifier<a class=\"sk-estimator-doc-link fitted\" rel=\"noreferrer\" target=\"_blank\" href=\"https://scikit-learn.org/1.5/modules/generated/sklearn.neural_network.MLPClassifier.html\">?<span>Documentation for MLPClassifier</span></a><span class=\"sk-estimator-doc-link fitted\">i<span>Fitted</span></span></label><div class=\"sk-toggleable__content fitted\"><pre>MLPClassifier(activation=&#x27;logistic&#x27;, hidden_layer_sizes=(2,), max_iter=100,\n",
              "              random_state=20, solver=&#x27;lbfgs&#x27;)</pre></div> </div></div></div></div>"
            ]
          },
          "metadata": {},
          "execution_count": 65
        }
      ]
    },
    {
      "cell_type": "markdown",
      "source": [
        "Kode ini membuat dan melatih model **MLPClassifier** menggunakan dataset yang telah didefinisikan. Model diinisialisasi dengan beberapa parameter: **`solver='lbfgs'`** untuk algoritma optimisasi, **`activation='logistic'`** untuk fungsi aktivasi, **`hidden_layer_sizes=(2,)`** untuk menentukan satu lapisan tersembunyi dengan dua neuron, dan **`max_iter=100`** untuk membatasi jumlah iterasi pelatihan. Metode **`fit()`** kemudian digunakan untuk melatih model dengan data fitur **`X`** dan label **`y`**. Saat dijalankan, kode ini akan melatih model jaringan saraf untuk memprediksi label berdasarkan fitur yang diberikan."
      ],
      "metadata": {
        "id": "c4uq04dQSxo1"
      }
    },
    {
      "cell_type": "code",
      "source": [
        "pred = clf.predict(X)\n",
        "print('Accuracy: %s' % clf.score(X, y))\n",
        "for i,p in enumerate(pred[:10]):\n",
        "    print('True: %s, Predicted: %s' % (y[i], p))"
      ],
      "metadata": {
        "id": "5agbgMvsSyWH",
        "outputId": "a6795d28-1ff1-4bc6-e8f1-5946bd5364df",
        "colab": {
          "base_uri": "https://localhost:8080/"
        }
      },
      "execution_count": 66,
      "outputs": [
        {
          "output_type": "stream",
          "name": "stdout",
          "text": [
            "Accuracy: 1.0\n",
            "True: 0, Predicted: 0\n",
            "True: 1, Predicted: 1\n",
            "True: 1, Predicted: 1\n",
            "True: 0, Predicted: 0\n"
          ]
        }
      ]
    },
    {
      "cell_type": "markdown",
      "source": [
        "Kode ini menggunakan model **MLPClassifier** yang telah dilatih untuk membuat prediksi pada dataset yang sama. Metode **`predict()`** dipanggil untuk menghasilkan prediksi dan menyimpannya dalam variabel **`pred`**. Selanjutnya, akurasi model dihitung dengan **`score()`**, yang membandingkan prediksi dengan label sebenarnya, dan hasilnya dicetak ke konsol. Loop `for` digunakan untuk mencetak label asli dan prediksi untuk sepuluh contoh pertama dari dataset. Saat dijalankan, kode ini memberikan informasi tentang akurasi model dan membandingkan hasil prediksi dengan label yang benar."
      ],
      "metadata": {
        "id": "OTVevh7LTrhT"
      }
    },
    {
      "cell_type": "markdown",
      "source": [
        "# Praktikum 4 Klasifikasi dengan ANN\n",
        "# Pra Pengolahan Data\n",
        "# Langkah 1 - Import Library"
      ],
      "metadata": {
        "id": "jkvpHM6bTsgr"
      }
    },
    {
      "cell_type": "code",
      "source": [
        "import numpy as np\n",
        "import pandas as pd\n",
        "import tensorflow as tf"
      ],
      "metadata": {
        "id": "QsJCHIX7UgGN"
      },
      "execution_count": 67,
      "outputs": []
    },
    {
      "cell_type": "markdown",
      "source": [
        "Kode ini mengimpor pustaka penting yang digunakan dalam analisis data dan pengembangan model pembelajaran mesin. **`numpy`** diimpor sebagai **`np`** dan digunakan untuk operasi numerik dan manipulasi array. **`pandas`** diimpor sebagai **`pd`** dan berfungsi untuk manipulasi dan analisis data dalam bentuk DataFrame. **`tensorflow`** diimpor sebagai **`tf`** dan merupakan pustaka utama untuk membangun dan melatih model pembelajaran mendalam. Saat dijalankan, kode ini mempersiapkan pustaka yang diperlukan untuk memanipulasi data dan mengembangkan model pembelajaran mesin atau jaringan saraf."
      ],
      "metadata": {
        "id": "DBBSzSiCUpKV"
      }
    },
    {
      "cell_type": "markdown",
      "source": [
        "# Langkah 2 - Load Data"
      ],
      "metadata": {
        "id": "Q9xWr-g7UqGk"
      }
    },
    {
      "cell_type": "code",
      "source": [
        "dataset = pd.read_csv('/content/drive/MyDrive/dataset/Minggu8/Churn_Modelling.csv')\n",
        "X = dataset.iloc[:, 3:-1].values\n",
        "y = dataset.iloc[:, -1].values"
      ],
      "metadata": {
        "id": "j8MmiQ2BUpuA"
      },
      "execution_count": 68,
      "outputs": []
    },
    {
      "cell_type": "markdown",
      "source": [
        "Kode ini memuat dataset dari file CSV menggunakan **`pandas`** dan mempersiapkan data untuk analisis lebih lanjut. Fungsi **`pd.read_csv()`** digunakan untuk membaca file CSV yang terletak di direktori tertentu. Variabel **`X`** diisi dengan semua fitur dari dataset, yang diambil dengan menggunakan metode **`iloc`** untuk memilih kolom dari indeks 3 hingga kolom terakhir yang tidak termasuk label. Variabel **`y`** diisi dengan label target yang berada di kolom terakhir dataset. Saat dijalankan, kode ini mempersiapkan variabel **`X`** dan **`y`** untuk digunakan dalam pelatihan model pembelajaran mesin."
      ],
      "metadata": {
        "id": "yO2UBKLfU42V"
      }
    },
    {
      "cell_type": "markdown",
      "source": [
        "# Cek data (X)"
      ],
      "metadata": {
        "id": "k6NhfIsAUxfI"
      }
    },
    {
      "cell_type": "code",
      "source": [
        "print(X)"
      ],
      "metadata": {
        "id": "WGuaaTeRUzAX",
        "outputId": "b07ec619-009a-46bd-d928-89f10e649973",
        "colab": {
          "base_uri": "https://localhost:8080/"
        }
      },
      "execution_count": 69,
      "outputs": [
        {
          "output_type": "stream",
          "name": "stdout",
          "text": [
            "[[619 'France' 'Female' ... 1 1 101348.88]\n",
            " [608 'Spain' 'Female' ... 0 1 112542.58]\n",
            " [502 'France' 'Female' ... 1 0 113931.57]\n",
            " ...\n",
            " [709 'France' 'Female' ... 0 1 42085.58]\n",
            " [772 'Germany' 'Male' ... 1 0 92888.52]\n",
            " [792 'France' 'Female' ... 1 0 38190.78]]\n"
          ]
        }
      ]
    },
    {
      "cell_type": "markdown",
      "source": [
        "Kode ini mencetak nilai dari variabel **`X`**, yang berisi fitur-fitur dari dataset **Churn_Modelling**. Output menunjukkan array dua dimensi yang terdiri dari beberapa baris dan kolom, di mana setiap baris mewakili satu contoh data dan setiap kolom mewakili fitur yang berbeda, seperti umur, negara, jenis kelamin, dan atribut lainnya. Nilai-nilai ini mencakup berbagai jenis data, termasuk numerik dan kategorikal. Saat dijalankan, kode ini memberikan gambaran tentang struktur dan isi dari data fitur yang akan digunakan dalam model pembelajaran mesin."
      ],
      "metadata": {
        "id": "dN_UP6pzU-z7"
      }
    },
    {
      "cell_type": "markdown",
      "source": [
        "# Langkah 3 - Encoding Data Kategorikal"
      ],
      "metadata": {
        "id": "86CeB5_PU_nw"
      }
    },
    {
      "cell_type": "code",
      "source": [
        "from sklearn.preprocessing import LabelEncoder\n",
        "le = LabelEncoder()\n",
        "X[:, 2] = le.fit_transform(X[:, 2])"
      ],
      "metadata": {
        "id": "bu9iZsZqVGUo"
      },
      "execution_count": 70,
      "outputs": []
    },
    {
      "cell_type": "markdown",
      "source": [
        "Kode ini menggunakan **`LabelEncoder`** dari pustaka **scikit-learn** untuk mengubah fitur kategorikal menjadi format numerik. Dalam hal ini, kolom ketiga dari variabel **`X`**, yang berisi data jenis kelamin (misalnya, 'Female' dan 'Male'), diubah menjadi bilangan bulat menggunakan metode **`fit_transform()`**. Proses ini mengkodekan setiap kategori sebagai angka unik, yang diperlukan untuk algoritma pembelajaran mesin yang hanya dapat memproses data numerik. Hasilnya adalah array **`X`** yang sekarang memiliki representasi numerik untuk fitur jenis kelamin. Saat dijalankan, kode ini mempersiapkan data fitur agar sesuai untuk pelatihan model pembelajaran mesin."
      ],
      "metadata": {
        "id": "dfGUQ8bAVTyj"
      }
    },
    {
      "cell_type": "markdown",
      "source": [
        "# Cek data (X)"
      ],
      "metadata": {
        "id": "FEVXKrBXVFO3"
      }
    },
    {
      "cell_type": "code",
      "source": [
        "print(X)"
      ],
      "metadata": {
        "id": "sRM_agZRVMDe",
        "outputId": "c722c9a0-7d3c-4917-ef8d-bc9f2cc8d62f",
        "colab": {
          "base_uri": "https://localhost:8080/"
        }
      },
      "execution_count": 71,
      "outputs": [
        {
          "output_type": "stream",
          "name": "stdout",
          "text": [
            "[[619 'France' 0 ... 1 1 101348.88]\n",
            " [608 'Spain' 0 ... 0 1 112542.58]\n",
            " [502 'France' 0 ... 1 0 113931.57]\n",
            " ...\n",
            " [709 'France' 0 ... 0 1 42085.58]\n",
            " [772 'Germany' 1 ... 1 0 92888.52]\n",
            " [792 'France' 0 ... 1 0 38190.78]]\n"
          ]
        }
      ]
    },
    {
      "cell_type": "markdown",
      "source": [
        "Kode ini mencetak nilai dari variabel **`X`** setelah melakukan proses pengkodean pada kolom jenis kelamin. Output menunjukkan bahwa kolom ketiga, yang sebelumnya berisi kategori 'Female' dan 'Male', sekarang telah diubah menjadi representasi numerik, yaitu `0` untuk 'Female' dan `1` untuk 'Male'. Data lainnya tetap tidak berubah, dan struktur array dua dimensi masih sama, di mana setiap baris mewakili contoh data dan setiap kolom mewakili fitur yang berbeda. Proses ini memungkinkan data untuk digunakan dalam model pembelajaran mesin yang memerlukan format numerik. Saat dijalankan, kode ini memberikan gambaran tentang perubahan yang terjadi pada data fitur setelah pengkodean."
      ],
      "metadata": {
        "id": "oUgtoyBBVZbU"
      }
    },
    {
      "cell_type": "markdown",
      "source": [
        "# Langkah 4 - Encoding Kolom \"Geography\" dengan One Hot Encoder"
      ],
      "metadata": {
        "id": "7GMGOmsfVaJW"
      }
    },
    {
      "cell_type": "code",
      "source": [
        "from sklearn.compose import ColumnTransformer\n",
        "from sklearn.preprocessing import OneHotEncoder\n",
        "ct = ColumnTransformer(transformers=[('encoder', OneHotEncoder(), [1])], remainder='passthrough')\n",
        "X = np.array(ct.fit_transform(X))"
      ],
      "metadata": {
        "id": "OLkVMY3MVii6"
      },
      "execution_count": 72,
      "outputs": []
    },
    {
      "cell_type": "markdown",
      "source": [
        "Kode ini menggunakan **`ColumnTransformer`** dan **`OneHotEncoder`** dari pustaka **scikit-learn** untuk mengubah fitur kategorikal yang tersisa menjadi representasi numerik yang lebih sesuai untuk model pembelajaran mesin. Dalam hal ini, kolom kedua (indeks 1), yang berisi negara, diubah menggunakan pengkodean satu panas (one-hot encoding). Metode **`fit_transform()`** diterapkan pada variabel **`X`** untuk menerapkan transformasi dan mengembalikan hasilnya sebagai array numpy baru. Parameter **`remainder='passthrough'`** memastikan bahwa semua kolom lainnya tetap tidak berubah dalam hasil akhir. Saat dijalankan, kode ini menghasilkan dataset yang sepenuhnya numerik, di mana kolom negara kini diwakili oleh beberapa kolom biner, memungkinkan model pembelajaran mesin untuk memproses data dengan lebih efektif."
      ],
      "metadata": {
        "id": "2o4Cz-UQVtj-"
      }
    },
    {
      "cell_type": "markdown",
      "source": [
        "# Cek data (X) dengan print. Hasilnya,"
      ],
      "metadata": {
        "id": "cqpiwTc3VomM"
      }
    },
    {
      "cell_type": "code",
      "source": [
        "print(X)"
      ],
      "metadata": {
        "id": "c_A5RfriVlFY",
        "outputId": "16ff5170-459e-475e-b54e-5abe9896a131",
        "colab": {
          "base_uri": "https://localhost:8080/"
        }
      },
      "execution_count": 73,
      "outputs": [
        {
          "output_type": "stream",
          "name": "stdout",
          "text": [
            "[[1.0 0.0 0.0 ... 1 1 101348.88]\n",
            " [0.0 0.0 1.0 ... 0 1 112542.58]\n",
            " [1.0 0.0 0.0 ... 1 0 113931.57]\n",
            " ...\n",
            " [1.0 0.0 0.0 ... 0 1 42085.58]\n",
            " [0.0 1.0 0.0 ... 1 0 92888.52]\n",
            " [1.0 0.0 0.0 ... 1 0 38190.78]]\n"
          ]
        }
      ]
    },
    {
      "cell_type": "markdown",
      "source": [
        "Kode ini mencetak nilai dari variabel **`X`** setelah menerapkan **one-hot encoding** pada kolom negara. Output menunjukkan bahwa kolom negara telah diubah menjadi beberapa kolom biner; setiap kolom mewakili satu negara dan diisi dengan `1.0` jika contoh data tersebut berasal dari negara tersebut, dan `0.0` jika tidak. Struktur array dua dimensi kini terdiri dari lebih banyak kolom, dengan fitur-fitur lainnya tetap berada di akhir array. Proses ini memungkinkan algoritma pembelajaran mesin untuk menangani data kategorikal dengan cara yang lebih efektif, karena model sekarang dapat memahami informasi negara sebagai variabel biner. Saat dijalankan, kode ini memberikan gambaran tentang struktur data yang sudah sepenuhnya siap untuk digunakan dalam pelatihan model pembelajaran mesin."
      ],
      "metadata": {
        "id": "yxnGY_bYVwSu"
      }
    },
    {
      "cell_type": "markdown",
      "source": [
        "# Langkah 5 - Split Data"
      ],
      "metadata": {
        "id": "G4rpJO4iV24M"
      }
    },
    {
      "cell_type": "code",
      "source": [
        "from sklearn.model_selection import train_test_split\n",
        "X_train, X_test, y_train, y_test = train_test_split(X, y, test_size = 0.2, random_state = 0)"
      ],
      "metadata": {
        "id": "hdw9WSUMV7O6"
      },
      "execution_count": 74,
      "outputs": []
    },
    {
      "cell_type": "markdown",
      "source": [
        "Kode ini membagi dataset menjadi dua subset: data pelatihan dan data pengujian menggunakan fungsi **`train_test_split`** dari pustaka **scikit-learn**. Variabel **`X`** dan **`y`** dibagi dengan proporsi 80% untuk data pelatihan dan 20% untuk data pengujian, yang ditentukan oleh parameter **`test_size=0.2`**. Parameter **`random_state=0`** digunakan untuk memastikan bahwa pembagian data dapat direproduksi, sehingga hasilnya konsisten setiap kali kode dijalankan. Hasil pembagian disimpan dalam empat variabel: **`X_train`** dan **`y_train`** untuk data pelatihan, serta **`X_test`** dan **`y_test`** untuk data pengujian. Saat dijalankan, kode ini mempersiapkan data untuk pelatihan dan evaluasi model pembelajaran mesin dengan cara yang terstruktur."
      ],
      "metadata": {
        "id": "Q90hOCkPWBu4"
      }
    },
    {
      "cell_type": "markdown",
      "source": [
        "# Langkah 6 - Scaling Fitur"
      ],
      "metadata": {
        "id": "4s32B604WExQ"
      }
    },
    {
      "cell_type": "code",
      "source": [
        "from sklearn.preprocessing import StandardScaler\n",
        "sc = StandardScaler()\n",
        "X_train = sc.fit_transform(X_train)\n",
        "X_test = sc.transform(X_test)"
      ],
      "metadata": {
        "id": "g9L6bzICWCcg"
      },
      "execution_count": 75,
      "outputs": []
    },
    {
      "cell_type": "markdown",
      "source": [
        "Kode ini menggunakan **`StandardScaler`** dari pustaka **scikit-learn** untuk menstandarisasi fitur dari data pelatihan dan pengujian. Metode **`fit_transform()`** diterapkan pada **`X_train`** untuk menghitung rata-rata dan deviasi standar dari data pelatihan, dan kemudian menerapkan transformasi untuk mengubah data menjadi distribusi dengan rata-rata 0 dan deviasi standar 1. Selanjutnya, metode **`transform()`** digunakan pada **`X_test`** untuk menerapkan skala yang sama yang dihitung dari data pelatihan, memastikan bahwa data pengujian ditransformasikan dengan cara yang sama. Proses ini penting untuk memastikan bahwa model tidak terpengaruh oleh skala fitur yang berbeda. Saat dijalankan, kode ini mempersiapkan data agar sesuai untuk pelatihan model pembelajaran mesin dengan mempertimbangkan standarisasi."
      ],
      "metadata": {
        "id": "rrqHty42WOdn"
      }
    },
    {
      "cell_type": "markdown",
      "source": [
        "# Membuat Model ANN\n",
        "# Langkah 1 - Inisiasi Model ANN"
      ],
      "metadata": {
        "id": "5z14VXA8WPHq"
      }
    },
    {
      "cell_type": "code",
      "source": [
        "ann = tf.keras.models.Sequential()"
      ],
      "metadata": {
        "id": "y10So2WEWjLg"
      },
      "execution_count": 76,
      "outputs": []
    },
    {
      "cell_type": "markdown",
      "source": [
        "Kode ini membuat sebuah model jaringan saraf dengan menggunakan **Keras**, yang merupakan API tingkat tinggi untuk membangun dan melatih model pembelajaran mendalam di atas **TensorFlow**. Dengan memanggil **`tf.keras.models.Sequential()`**, sebuah objek model **Sequential** dibuat, yang memungkinkan penambahan lapisan secara berurutan. Model ini cocok untuk arsitektur jaringan saraf sederhana di mana setiap lapisan memiliki satu input dan satu output. Saat dijalankan, kode ini menyiapkan fondasi untuk menambahkan berbagai lapisan ke dalam model jaringan saraf, yang nantinya akan dilatih dengan data yang telah dipersiapkan."
      ],
      "metadata": {
        "id": "LFZnAnGMWpjo"
      }
    },
    {
      "cell_type": "markdown",
      "source": [
        "# Langkah 2 - Membuat Input Layer dan Hidden Layer Pertama"
      ],
      "metadata": {
        "id": "pPWsOKeVWqUU"
      }
    },
    {
      "cell_type": "code",
      "source": [
        "ann.add(tf.keras.layers.Dense(units=6, activation='relu'))"
      ],
      "metadata": {
        "id": "irKgL9GtWp8o"
      },
      "execution_count": 77,
      "outputs": []
    },
    {
      "cell_type": "markdown",
      "source": [
        "Kode ini menambahkan lapisan **Dense** ke dalam model jaringan saraf **Sequential** yang telah dibuat sebelumnya. Dengan menggunakan **`tf.keras.layers.Dense(units=6, activation='relu')`**, lapisan ini memiliki 6 neuron dan menggunakan fungsi aktivasi **ReLU** (Rectified Linear Unit). Fungsi aktivasi ReLU membantu model untuk belajar hubungan non-linear dalam data dengan mengizinkan output positif dan mengatur output negatif menjadi nol. Saat dijalankan, kode ini memperluas arsitektur jaringan saraf dengan menambahkan lapisan pertama, yang akan memproses input dari dataset yang telah disiapkan."
      ],
      "metadata": {
        "id": "PjQ00oT6W10S"
      }
    },
    {
      "cell_type": "markdown",
      "source": [
        "# Langkah 3 - Membuat Hidden Layer Kedua"
      ],
      "metadata": {
        "id": "kxbcJ2l5Wvoe"
      }
    },
    {
      "cell_type": "code",
      "source": [
        "ann.add(tf.keras.layers.Dense(units=6, activation='relu'))"
      ],
      "metadata": {
        "id": "8XuJOk5eWxjF"
      },
      "execution_count": 78,
      "outputs": []
    },
    {
      "cell_type": "markdown",
      "source": [
        "Kode ini menambahkan lapisan **Dense** ke dalam model jaringan saraf **Sequential** yang telah dibuat sebelumnya. Dengan menggunakan **`tf.keras.layers.Dense(units=6, activation='relu')`**, lapisan ini memiliki 6 neuron dan menggunakan fungsi aktivasi **ReLU** (Rectified Linear Unit). Fungsi aktivasi ReLU membantu model untuk belajar hubungan non-linear dalam data dengan mengizinkan output positif dan mengatur output negatif menjadi nol. Saat dijalankan, kode ini memperluas arsitektur jaringan saraf dengan menambahkan lapisan pertama, yang akan memproses input dari dataset yang telah disiapkan."
      ],
      "metadata": {
        "id": "bgeBXfN0XBQW"
      }
    },
    {
      "cell_type": "markdown",
      "source": [
        "# Langkah 4 - Membuat Output Layer"
      ],
      "metadata": {
        "id": "MTnsiK3LXB5G"
      }
    },
    {
      "cell_type": "code",
      "source": [
        "ann.add(tf.keras.layers.Dense(units=1, activation='sigmoid'))"
      ],
      "metadata": {
        "id": "A1jjkvVNXELr"
      },
      "execution_count": 79,
      "outputs": []
    },
    {
      "cell_type": "markdown",
      "source": [
        "Kode ini menambahkan lapisan **Dense** terakhir ke dalam model jaringan saraf **Sequential** yang telah dibangun. Lapisan ini memiliki 1 neuron dan menggunakan fungsi aktivasi **sigmoid**, yang mengubah output menjadi nilai antara 0 dan 1. Fungsi aktivasi sigmoid sangat cocok untuk masalah klasifikasi biner, di mana model perlu memprediksi dua kelas (misalnya, churn atau tidak churn dalam konteks ini). Saat dijalankan, kode ini menyelesaikan struktur jaringan saraf, yang siap untuk dilatih dengan data pelatihan untuk memprediksi label target."
      ],
      "metadata": {
        "id": "AsIy3JpYXI-S"
      }
    },
    {
      "cell_type": "markdown",
      "source": [
        "# Training Model\n",
        "# Langkah 1 - Compile Model (Menyatukan Arsitektur) ANN"
      ],
      "metadata": {
        "id": "Tr1HhHEqXJqn"
      }
    },
    {
      "cell_type": "code",
      "source": [
        "ann.compile(optimizer = 'adam', loss = 'binary_crossentropy', metrics = ['accuracy'])"
      ],
      "metadata": {
        "id": "wLXK5wcaXN7D"
      },
      "execution_count": 80,
      "outputs": []
    },
    {
      "cell_type": "markdown",
      "source": [
        "Kode ini mengonfigurasi model jaringan saraf yang telah dibangun dengan mengompilasi model menggunakan metode **`compile()`**. Di sini, optimizer yang digunakan adalah **`adam`**, yang merupakan algoritma optimasi yang populer untuk pelatihan jaringan saraf, karena efisien dan bekerja baik dalam banyak kasus. Fungsi kerugian yang dipilih adalah **`binary_crossentropy`**, yang sesuai untuk masalah klasifikasi biner, membantu model untuk meminimalkan kesalahan prediksi. Selain itu, **`metrics=['accuracy']`** menunjukkan bahwa selama pelatihan dan evaluasi, akurasi model akan dilacak sebagai metrik kinerja. Saat dijalankan, kode ini menyiapkan model untuk pelatihan dengan mengatur parameter penting yang diperlukan untuk proses optimasi."
      ],
      "metadata": {
        "id": "dub6Gzz_XcQQ"
      }
    },
    {
      "cell_type": "markdown",
      "source": [
        "# Langkah 2 - Fitting Model"
      ],
      "metadata": {
        "id": "PWWBfWeMXQ9v"
      }
    },
    {
      "cell_type": "code",
      "source": [
        "ann.fit(X_train, y_train, batch_size = 32, epochs = 100)"
      ],
      "metadata": {
        "id": "SxKlnJrCXS2t",
        "outputId": "ae194cd2-fbbb-46bc-a444-70c18ada2744",
        "colab": {
          "base_uri": "https://localhost:8080/"
        }
      },
      "execution_count": 81,
      "outputs": [
        {
          "output_type": "stream",
          "name": "stdout",
          "text": [
            "Epoch 1/100\n",
            "\u001b[1m250/250\u001b[0m \u001b[32m━━━━━━━━━━━━━━━━━━━━\u001b[0m\u001b[37m\u001b[0m \u001b[1m2s\u001b[0m 2ms/step - accuracy: 0.7911 - loss: 0.5544\n",
            "Epoch 2/100\n",
            "\u001b[1m250/250\u001b[0m \u001b[32m━━━━━━━━━━━━━━━━━━━━\u001b[0m\u001b[37m\u001b[0m \u001b[1m0s\u001b[0m 1ms/step - accuracy: 0.7971 - loss: 0.4825\n",
            "Epoch 3/100\n",
            "\u001b[1m250/250\u001b[0m \u001b[32m━━━━━━━━━━━━━━━━━━━━\u001b[0m\u001b[37m\u001b[0m \u001b[1m1s\u001b[0m 2ms/step - accuracy: 0.7999 - loss: 0.4459\n",
            "Epoch 4/100\n",
            "\u001b[1m250/250\u001b[0m \u001b[32m━━━━━━━━━━━━━━━━━━━━\u001b[0m\u001b[37m\u001b[0m \u001b[1m1s\u001b[0m 2ms/step - accuracy: 0.8006 - loss: 0.4294\n",
            "Epoch 5/100\n",
            "\u001b[1m250/250\u001b[0m \u001b[32m━━━━━━━━━━━━━━━━━━━━\u001b[0m\u001b[37m\u001b[0m \u001b[1m1s\u001b[0m 2ms/step - accuracy: 0.7938 - loss: 0.4337\n",
            "Epoch 6/100\n",
            "\u001b[1m250/250\u001b[0m \u001b[32m━━━━━━━━━━━━━━━━━━━━\u001b[0m\u001b[37m\u001b[0m \u001b[1m1s\u001b[0m 2ms/step - accuracy: 0.7953 - loss: 0.4279\n",
            "Epoch 7/100\n",
            "\u001b[1m250/250\u001b[0m \u001b[32m━━━━━━━━━━━━━━━━━━━━\u001b[0m\u001b[37m\u001b[0m \u001b[1m1s\u001b[0m 3ms/step - accuracy: 0.8136 - loss: 0.4243\n",
            "Epoch 8/100\n",
            "\u001b[1m250/250\u001b[0m \u001b[32m━━━━━━━━━━━━━━━━━━━━\u001b[0m\u001b[37m\u001b[0m \u001b[1m1s\u001b[0m 2ms/step - accuracy: 0.8211 - loss: 0.4203\n",
            "Epoch 9/100\n",
            "\u001b[1m250/250\u001b[0m \u001b[32m━━━━━━━━━━━━━━━━━━━━\u001b[0m\u001b[37m\u001b[0m \u001b[1m1s\u001b[0m 2ms/step - accuracy: 0.8304 - loss: 0.4114\n",
            "Epoch 10/100\n",
            "\u001b[1m250/250\u001b[0m \u001b[32m━━━━━━━━━━━━━━━━━━━━\u001b[0m\u001b[37m\u001b[0m \u001b[1m0s\u001b[0m 2ms/step - accuracy: 0.8314 - loss: 0.4048\n",
            "Epoch 11/100\n",
            "\u001b[1m250/250\u001b[0m \u001b[32m━━━━━━━━━━━━━━━━━━━━\u001b[0m\u001b[37m\u001b[0m \u001b[1m1s\u001b[0m 2ms/step - accuracy: 0.8247 - loss: 0.4138\n",
            "Epoch 12/100\n",
            "\u001b[1m250/250\u001b[0m \u001b[32m━━━━━━━━━━━━━━━━━━━━\u001b[0m\u001b[37m\u001b[0m \u001b[1m0s\u001b[0m 1ms/step - accuracy: 0.8296 - loss: 0.4002\n",
            "Epoch 13/100\n",
            "\u001b[1m250/250\u001b[0m \u001b[32m━━━━━━━━━━━━━━━━━━━━\u001b[0m\u001b[37m\u001b[0m \u001b[1m1s\u001b[0m 2ms/step - accuracy: 0.8270 - loss: 0.4067\n",
            "Epoch 14/100\n",
            "\u001b[1m250/250\u001b[0m \u001b[32m━━━━━━━━━━━━━━━━━━━━\u001b[0m\u001b[37m\u001b[0m \u001b[1m1s\u001b[0m 1ms/step - accuracy: 0.8407 - loss: 0.3942\n",
            "Epoch 15/100\n",
            "\u001b[1m250/250\u001b[0m \u001b[32m━━━━━━━━━━━━━━━━━━━━\u001b[0m\u001b[37m\u001b[0m \u001b[1m1s\u001b[0m 1ms/step - accuracy: 0.8323 - loss: 0.3878\n",
            "Epoch 16/100\n",
            "\u001b[1m250/250\u001b[0m \u001b[32m━━━━━━━━━━━━━━━━━━━━\u001b[0m\u001b[37m\u001b[0m \u001b[1m1s\u001b[0m 2ms/step - accuracy: 0.8367 - loss: 0.3844\n",
            "Epoch 17/100\n",
            "\u001b[1m250/250\u001b[0m \u001b[32m━━━━━━━━━━━━━━━━━━━━\u001b[0m\u001b[37m\u001b[0m \u001b[1m1s\u001b[0m 1ms/step - accuracy: 0.8403 - loss: 0.3894\n",
            "Epoch 18/100\n",
            "\u001b[1m250/250\u001b[0m \u001b[32m━━━━━━━━━━━━━━━━━━━━\u001b[0m\u001b[37m\u001b[0m \u001b[1m1s\u001b[0m 1ms/step - accuracy: 0.8481 - loss: 0.3619\n",
            "Epoch 19/100\n",
            "\u001b[1m250/250\u001b[0m \u001b[32m━━━━━━━━━━━━━━━━━━━━\u001b[0m\u001b[37m\u001b[0m \u001b[1m0s\u001b[0m 1ms/step - accuracy: 0.8538 - loss: 0.3586\n",
            "Epoch 20/100\n",
            "\u001b[1m250/250\u001b[0m \u001b[32m━━━━━━━━━━━━━━━━━━━━\u001b[0m\u001b[37m\u001b[0m \u001b[1m1s\u001b[0m 2ms/step - accuracy: 0.8469 - loss: 0.3724\n",
            "Epoch 21/100\n",
            "\u001b[1m250/250\u001b[0m \u001b[32m━━━━━━━━━━━━━━━━━━━━\u001b[0m\u001b[37m\u001b[0m \u001b[1m0s\u001b[0m 2ms/step - accuracy: 0.8568 - loss: 0.3508\n",
            "Epoch 22/100\n",
            "\u001b[1m250/250\u001b[0m \u001b[32m━━━━━━━━━━━━━━━━━━━━\u001b[0m\u001b[37m\u001b[0m \u001b[1m1s\u001b[0m 2ms/step - accuracy: 0.8629 - loss: 0.3477\n",
            "Epoch 23/100\n",
            "\u001b[1m250/250\u001b[0m \u001b[32m━━━━━━━━━━━━━━━━━━━━\u001b[0m\u001b[37m\u001b[0m \u001b[1m1s\u001b[0m 2ms/step - accuracy: 0.8635 - loss: 0.3429\n",
            "Epoch 24/100\n",
            "\u001b[1m250/250\u001b[0m \u001b[32m━━━━━━━━━━━━━━━━━━━━\u001b[0m\u001b[37m\u001b[0m \u001b[1m0s\u001b[0m 2ms/step - accuracy: 0.8611 - loss: 0.3433\n",
            "Epoch 25/100\n",
            "\u001b[1m250/250\u001b[0m \u001b[32m━━━━━━━━━━━━━━━━━━━━\u001b[0m\u001b[37m\u001b[0m \u001b[1m1s\u001b[0m 2ms/step - accuracy: 0.8624 - loss: 0.3423\n",
            "Epoch 26/100\n",
            "\u001b[1m250/250\u001b[0m \u001b[32m━━━━━━━━━━━━━━━━━━━━\u001b[0m\u001b[37m\u001b[0m \u001b[1m1s\u001b[0m 2ms/step - accuracy: 0.8559 - loss: 0.3527\n",
            "Epoch 27/100\n",
            "\u001b[1m250/250\u001b[0m \u001b[32m━━━━━━━━━━━━━━━━━━━━\u001b[0m\u001b[37m\u001b[0m \u001b[1m1s\u001b[0m 2ms/step - accuracy: 0.8593 - loss: 0.3528\n",
            "Epoch 28/100\n",
            "\u001b[1m250/250\u001b[0m \u001b[32m━━━━━━━━━━━━━━━━━━━━\u001b[0m\u001b[37m\u001b[0m \u001b[1m1s\u001b[0m 3ms/step - accuracy: 0.8577 - loss: 0.3481\n",
            "Epoch 29/100\n",
            "\u001b[1m250/250\u001b[0m \u001b[32m━━━━━━━━━━━━━━━━━━━━\u001b[0m\u001b[37m\u001b[0m \u001b[1m1s\u001b[0m 1ms/step - accuracy: 0.8608 - loss: 0.3439\n",
            "Epoch 30/100\n",
            "\u001b[1m250/250\u001b[0m \u001b[32m━━━━━━━━━━━━━━━━━━━━\u001b[0m\u001b[37m\u001b[0m \u001b[1m1s\u001b[0m 2ms/step - accuracy: 0.8590 - loss: 0.3396\n",
            "Epoch 31/100\n",
            "\u001b[1m250/250\u001b[0m \u001b[32m━━━━━━━━━━━━━━━━━━━━\u001b[0m\u001b[37m\u001b[0m \u001b[1m1s\u001b[0m 1ms/step - accuracy: 0.8656 - loss: 0.3375\n",
            "Epoch 32/100\n",
            "\u001b[1m250/250\u001b[0m \u001b[32m━━━━━━━━━━━━━━━━━━━━\u001b[0m\u001b[37m\u001b[0m \u001b[1m1s\u001b[0m 1ms/step - accuracy: 0.8592 - loss: 0.3441\n",
            "Epoch 33/100\n",
            "\u001b[1m250/250\u001b[0m \u001b[32m━━━━━━━━━━━━━━━━━━━━\u001b[0m\u001b[37m\u001b[0m \u001b[1m0s\u001b[0m 1ms/step - accuracy: 0.8643 - loss: 0.3362\n",
            "Epoch 34/100\n",
            "\u001b[1m250/250\u001b[0m \u001b[32m━━━━━━━━━━━━━━━━━━━━\u001b[0m\u001b[37m\u001b[0m \u001b[1m1s\u001b[0m 2ms/step - accuracy: 0.8599 - loss: 0.3484\n",
            "Epoch 35/100\n",
            "\u001b[1m250/250\u001b[0m \u001b[32m━━━━━━━━━━━━━━━━━━━━\u001b[0m\u001b[37m\u001b[0m \u001b[1m1s\u001b[0m 2ms/step - accuracy: 0.8540 - loss: 0.3531\n",
            "Epoch 36/100\n",
            "\u001b[1m250/250\u001b[0m \u001b[32m━━━━━━━━━━━━━━━━━━━━\u001b[0m\u001b[37m\u001b[0m \u001b[1m1s\u001b[0m 1ms/step - accuracy: 0.8641 - loss: 0.3369\n",
            "Epoch 37/100\n",
            "\u001b[1m250/250\u001b[0m \u001b[32m━━━━━━━━━━━━━━━━━━━━\u001b[0m\u001b[37m\u001b[0m \u001b[1m0s\u001b[0m 2ms/step - accuracy: 0.8609 - loss: 0.3441\n",
            "Epoch 38/100\n",
            "\u001b[1m250/250\u001b[0m \u001b[32m━━━━━━━━━━━━━━━━━━━━\u001b[0m\u001b[37m\u001b[0m \u001b[1m1s\u001b[0m 1ms/step - accuracy: 0.8636 - loss: 0.3431\n",
            "Epoch 39/100\n",
            "\u001b[1m250/250\u001b[0m \u001b[32m━━━━━━━━━━━━━━━━━━━━\u001b[0m\u001b[37m\u001b[0m \u001b[1m1s\u001b[0m 2ms/step - accuracy: 0.8588 - loss: 0.3449\n",
            "Epoch 40/100\n",
            "\u001b[1m250/250\u001b[0m \u001b[32m━━━━━━━━━━━━━━━━━━━━\u001b[0m\u001b[37m\u001b[0m \u001b[1m0s\u001b[0m 1ms/step - accuracy: 0.8611 - loss: 0.3459\n",
            "Epoch 41/100\n",
            "\u001b[1m250/250\u001b[0m \u001b[32m━━━━━━━━━━━━━━━━━━━━\u001b[0m\u001b[37m\u001b[0m \u001b[1m1s\u001b[0m 2ms/step - accuracy: 0.8575 - loss: 0.3466\n",
            "Epoch 42/100\n",
            "\u001b[1m250/250\u001b[0m \u001b[32m━━━━━━━━━━━━━━━━━━━━\u001b[0m\u001b[37m\u001b[0m \u001b[1m1s\u001b[0m 2ms/step - accuracy: 0.8595 - loss: 0.3389\n",
            "Epoch 43/100\n",
            "\u001b[1m250/250\u001b[0m \u001b[32m━━━━━━━━━━━━━━━━━━━━\u001b[0m\u001b[37m\u001b[0m \u001b[1m1s\u001b[0m 1ms/step - accuracy: 0.8644 - loss: 0.3395\n",
            "Epoch 44/100\n",
            "\u001b[1m250/250\u001b[0m \u001b[32m━━━━━━━━━━━━━━━━━━━━\u001b[0m\u001b[37m\u001b[0m \u001b[1m0s\u001b[0m 2ms/step - accuracy: 0.8565 - loss: 0.3444\n",
            "Epoch 45/100\n",
            "\u001b[1m250/250\u001b[0m \u001b[32m━━━━━━━━━━━━━━━━━━━━\u001b[0m\u001b[37m\u001b[0m \u001b[1m1s\u001b[0m 1ms/step - accuracy: 0.8639 - loss: 0.3427\n",
            "Epoch 46/100\n",
            "\u001b[1m250/250\u001b[0m \u001b[32m━━━━━━━━━━━━━━━━━━━━\u001b[0m\u001b[37m\u001b[0m \u001b[1m0s\u001b[0m 2ms/step - accuracy: 0.8577 - loss: 0.3448\n",
            "Epoch 47/100\n",
            "\u001b[1m250/250\u001b[0m \u001b[32m━━━━━━━━━━━━━━━━━━━━\u001b[0m\u001b[37m\u001b[0m \u001b[1m1s\u001b[0m 2ms/step - accuracy: 0.8673 - loss: 0.3410\n",
            "Epoch 48/100\n",
            "\u001b[1m250/250\u001b[0m \u001b[32m━━━━━━━━━━━━━━━━━━━━\u001b[0m\u001b[37m\u001b[0m \u001b[1m1s\u001b[0m 2ms/step - accuracy: 0.8669 - loss: 0.3326\n",
            "Epoch 49/100\n",
            "\u001b[1m250/250\u001b[0m \u001b[32m━━━━━━━━━━━━━━━━━━━━\u001b[0m\u001b[37m\u001b[0m \u001b[1m1s\u001b[0m 2ms/step - accuracy: 0.8627 - loss: 0.3419\n",
            "Epoch 50/100\n",
            "\u001b[1m250/250\u001b[0m \u001b[32m━━━━━━━━━━━━━━━━━━━━\u001b[0m\u001b[37m\u001b[0m \u001b[1m1s\u001b[0m 3ms/step - accuracy: 0.8553 - loss: 0.3436\n",
            "Epoch 51/100\n",
            "\u001b[1m250/250\u001b[0m \u001b[32m━━━━━━━━━━━━━━━━━━━━\u001b[0m\u001b[37m\u001b[0m \u001b[1m1s\u001b[0m 2ms/step - accuracy: 0.8613 - loss: 0.3413\n",
            "Epoch 52/100\n",
            "\u001b[1m250/250\u001b[0m \u001b[32m━━━━━━━━━━━━━━━━━━━━\u001b[0m\u001b[37m\u001b[0m \u001b[1m0s\u001b[0m 1ms/step - accuracy: 0.8626 - loss: 0.3354\n",
            "Epoch 53/100\n",
            "\u001b[1m250/250\u001b[0m \u001b[32m━━━━━━━━━━━━━━━━━━━━\u001b[0m\u001b[37m\u001b[0m \u001b[1m1s\u001b[0m 2ms/step - accuracy: 0.8606 - loss: 0.3390\n",
            "Epoch 54/100\n",
            "\u001b[1m250/250\u001b[0m \u001b[32m━━━━━━━━━━━━━━━━━━━━\u001b[0m\u001b[37m\u001b[0m \u001b[1m1s\u001b[0m 2ms/step - accuracy: 0.8643 - loss: 0.3360\n",
            "Epoch 55/100\n",
            "\u001b[1m250/250\u001b[0m \u001b[32m━━━━━━━━━━━━━━━━━━━━\u001b[0m\u001b[37m\u001b[0m \u001b[1m1s\u001b[0m 2ms/step - accuracy: 0.8628 - loss: 0.3338\n",
            "Epoch 56/100\n",
            "\u001b[1m250/250\u001b[0m \u001b[32m━━━━━━━━━━━━━━━━━━━━\u001b[0m\u001b[37m\u001b[0m \u001b[1m1s\u001b[0m 2ms/step - accuracy: 0.8629 - loss: 0.3361\n",
            "Epoch 57/100\n",
            "\u001b[1m250/250\u001b[0m \u001b[32m━━━━━━━━━━━━━━━━━━━━\u001b[0m\u001b[37m\u001b[0m \u001b[1m1s\u001b[0m 2ms/step - accuracy: 0.8617 - loss: 0.3369\n",
            "Epoch 58/100\n",
            "\u001b[1m250/250\u001b[0m \u001b[32m━━━━━━━━━━━━━━━━━━━━\u001b[0m\u001b[37m\u001b[0m \u001b[1m0s\u001b[0m 2ms/step - accuracy: 0.8657 - loss: 0.3341\n",
            "Epoch 59/100\n",
            "\u001b[1m250/250\u001b[0m \u001b[32m━━━━━━━━━━━━━━━━━━━━\u001b[0m\u001b[37m\u001b[0m \u001b[1m1s\u001b[0m 2ms/step - accuracy: 0.8601 - loss: 0.3438\n",
            "Epoch 60/100\n",
            "\u001b[1m250/250\u001b[0m \u001b[32m━━━━━━━━━━━━━━━━━━━━\u001b[0m\u001b[37m\u001b[0m \u001b[1m1s\u001b[0m 2ms/step - accuracy: 0.8609 - loss: 0.3391\n",
            "Epoch 61/100\n",
            "\u001b[1m250/250\u001b[0m \u001b[32m━━━━━━━━━━━━━━━━━━━━\u001b[0m\u001b[37m\u001b[0m \u001b[1m1s\u001b[0m 2ms/step - accuracy: 0.8587 - loss: 0.3429\n",
            "Epoch 62/100\n",
            "\u001b[1m250/250\u001b[0m \u001b[32m━━━━━━━━━━━━━━━━━━━━\u001b[0m\u001b[37m\u001b[0m \u001b[1m1s\u001b[0m 2ms/step - accuracy: 0.8568 - loss: 0.3447\n",
            "Epoch 63/100\n",
            "\u001b[1m250/250\u001b[0m \u001b[32m━━━━━━━━━━━━━━━━━━━━\u001b[0m\u001b[37m\u001b[0m \u001b[1m1s\u001b[0m 1ms/step - accuracy: 0.8579 - loss: 0.3496\n",
            "Epoch 64/100\n",
            "\u001b[1m250/250\u001b[0m \u001b[32m━━━━━━━━━━━━━━━━━━━━\u001b[0m\u001b[37m\u001b[0m \u001b[1m1s\u001b[0m 2ms/step - accuracy: 0.8650 - loss: 0.3264\n",
            "Epoch 65/100\n",
            "\u001b[1m250/250\u001b[0m \u001b[32m━━━━━━━━━━━━━━━━━━━━\u001b[0m\u001b[37m\u001b[0m \u001b[1m1s\u001b[0m 2ms/step - accuracy: 0.8664 - loss: 0.3378\n",
            "Epoch 66/100\n",
            "\u001b[1m250/250\u001b[0m \u001b[32m━━━━━━━━━━━━━━━━━━━━\u001b[0m\u001b[37m\u001b[0m \u001b[1m1s\u001b[0m 1ms/step - accuracy: 0.8658 - loss: 0.3299\n",
            "Epoch 67/100\n",
            "\u001b[1m250/250\u001b[0m \u001b[32m━━━━━━━━━━━━━━━━━━━━\u001b[0m\u001b[37m\u001b[0m \u001b[1m0s\u001b[0m 2ms/step - accuracy: 0.8645 - loss: 0.3275\n",
            "Epoch 68/100\n",
            "\u001b[1m250/250\u001b[0m \u001b[32m━━━━━━━━━━━━━━━━━━━━\u001b[0m\u001b[37m\u001b[0m \u001b[1m1s\u001b[0m 2ms/step - accuracy: 0.8629 - loss: 0.3422\n",
            "Epoch 69/100\n",
            "\u001b[1m250/250\u001b[0m \u001b[32m━━━━━━━━━━━━━━━━━━━━\u001b[0m\u001b[37m\u001b[0m \u001b[1m1s\u001b[0m 2ms/step - accuracy: 0.8625 - loss: 0.3446\n",
            "Epoch 70/100\n",
            "\u001b[1m250/250\u001b[0m \u001b[32m━━━━━━━━━━━━━━━━━━━━\u001b[0m\u001b[37m\u001b[0m \u001b[1m1s\u001b[0m 2ms/step - accuracy: 0.8675 - loss: 0.3292\n",
            "Epoch 71/100\n",
            "\u001b[1m250/250\u001b[0m \u001b[32m━━━━━━━━━━━━━━━━━━━━\u001b[0m\u001b[37m\u001b[0m \u001b[1m1s\u001b[0m 3ms/step - accuracy: 0.8698 - loss: 0.3276\n",
            "Epoch 72/100\n",
            "\u001b[1m250/250\u001b[0m \u001b[32m━━━━━━━━━━━━━━━━━━━━\u001b[0m\u001b[37m\u001b[0m \u001b[1m1s\u001b[0m 3ms/step - accuracy: 0.8646 - loss: 0.3358\n",
            "Epoch 73/100\n",
            "\u001b[1m250/250\u001b[0m \u001b[32m━━━━━━━━━━━━━━━━━━━━\u001b[0m\u001b[37m\u001b[0m \u001b[1m1s\u001b[0m 1ms/step - accuracy: 0.8558 - loss: 0.3418\n",
            "Epoch 74/100\n",
            "\u001b[1m250/250\u001b[0m \u001b[32m━━━━━━━━━━━━━━━━━━━━\u001b[0m\u001b[37m\u001b[0m \u001b[1m0s\u001b[0m 2ms/step - accuracy: 0.8557 - loss: 0.3432\n",
            "Epoch 75/100\n",
            "\u001b[1m250/250\u001b[0m \u001b[32m━━━━━━━━━━━━━━━━━━━━\u001b[0m\u001b[37m\u001b[0m \u001b[1m1s\u001b[0m 2ms/step - accuracy: 0.8618 - loss: 0.3385\n",
            "Epoch 76/100\n",
            "\u001b[1m250/250\u001b[0m \u001b[32m━━━━━━━━━━━━━━━━━━━━\u001b[0m\u001b[37m\u001b[0m \u001b[1m1s\u001b[0m 2ms/step - accuracy: 0.8627 - loss: 0.3339\n",
            "Epoch 77/100\n",
            "\u001b[1m250/250\u001b[0m \u001b[32m━━━━━━━━━━━━━━━━━━━━\u001b[0m\u001b[37m\u001b[0m \u001b[1m1s\u001b[0m 1ms/step - accuracy: 0.8620 - loss: 0.3415\n",
            "Epoch 78/100\n",
            "\u001b[1m250/250\u001b[0m \u001b[32m━━━━━━━━━━━━━━━━━━━━\u001b[0m\u001b[37m\u001b[0m \u001b[1m1s\u001b[0m 2ms/step - accuracy: 0.8612 - loss: 0.3368\n",
            "Epoch 79/100\n",
            "\u001b[1m250/250\u001b[0m \u001b[32m━━━━━━━━━━━━━━━━━━━━\u001b[0m\u001b[37m\u001b[0m \u001b[1m1s\u001b[0m 2ms/step - accuracy: 0.8625 - loss: 0.3349\n",
            "Epoch 80/100\n",
            "\u001b[1m250/250\u001b[0m \u001b[32m━━━━━━━━━━━━━━━━━━━━\u001b[0m\u001b[37m\u001b[0m \u001b[1m1s\u001b[0m 1ms/step - accuracy: 0.8556 - loss: 0.3481\n",
            "Epoch 81/100\n",
            "\u001b[1m250/250\u001b[0m \u001b[32m━━━━━━━━━━━━━━━━━━━━\u001b[0m\u001b[37m\u001b[0m \u001b[1m0s\u001b[0m 2ms/step - accuracy: 0.8627 - loss: 0.3313\n",
            "Epoch 82/100\n",
            "\u001b[1m250/250\u001b[0m \u001b[32m━━━━━━━━━━━━━━━━━━━━\u001b[0m\u001b[37m\u001b[0m \u001b[1m1s\u001b[0m 1ms/step - accuracy: 0.8586 - loss: 0.3397\n",
            "Epoch 83/100\n",
            "\u001b[1m250/250\u001b[0m \u001b[32m━━━━━━━━━━━━━━━━━━━━\u001b[0m\u001b[37m\u001b[0m \u001b[1m0s\u001b[0m 2ms/step - accuracy: 0.8643 - loss: 0.3323\n",
            "Epoch 84/100\n",
            "\u001b[1m250/250\u001b[0m \u001b[32m━━━━━━━━━━━━━━━━━━━━\u001b[0m\u001b[37m\u001b[0m \u001b[1m1s\u001b[0m 1ms/step - accuracy: 0.8578 - loss: 0.3402\n",
            "Epoch 85/100\n",
            "\u001b[1m250/250\u001b[0m \u001b[32m━━━━━━━━━━━━━━━━━━━━\u001b[0m\u001b[37m\u001b[0m \u001b[1m0s\u001b[0m 2ms/step - accuracy: 0.8549 - loss: 0.3457\n",
            "Epoch 86/100\n",
            "\u001b[1m250/250\u001b[0m \u001b[32m━━━━━━━━━━━━━━━━━━━━\u001b[0m\u001b[37m\u001b[0m \u001b[1m0s\u001b[0m 2ms/step - accuracy: 0.8621 - loss: 0.3344\n",
            "Epoch 87/100\n",
            "\u001b[1m250/250\u001b[0m \u001b[32m━━━━━━━━━━━━━━━━━━━━\u001b[0m\u001b[37m\u001b[0m \u001b[1m1s\u001b[0m 2ms/step - accuracy: 0.8652 - loss: 0.3321\n",
            "Epoch 88/100\n",
            "\u001b[1m250/250\u001b[0m \u001b[32m━━━━━━━━━━━━━━━━━━━━\u001b[0m\u001b[37m\u001b[0m \u001b[1m1s\u001b[0m 2ms/step - accuracy: 0.8592 - loss: 0.3372\n",
            "Epoch 89/100\n",
            "\u001b[1m250/250\u001b[0m \u001b[32m━━━━━━━━━━━━━━━━━━━━\u001b[0m\u001b[37m\u001b[0m \u001b[1m1s\u001b[0m 2ms/step - accuracy: 0.8691 - loss: 0.3311\n",
            "Epoch 90/100\n",
            "\u001b[1m250/250\u001b[0m \u001b[32m━━━━━━━━━━━━━━━━━━━━\u001b[0m\u001b[37m\u001b[0m \u001b[1m1s\u001b[0m 3ms/step - accuracy: 0.8603 - loss: 0.3436\n",
            "Epoch 91/100\n",
            "\u001b[1m250/250\u001b[0m \u001b[32m━━━━━━━━━━━━━━━━━━━━\u001b[0m\u001b[37m\u001b[0m \u001b[1m1s\u001b[0m 3ms/step - accuracy: 0.8548 - loss: 0.3398\n",
            "Epoch 92/100\n",
            "\u001b[1m250/250\u001b[0m \u001b[32m━━━━━━━━━━━━━━━━━━━━\u001b[0m\u001b[37m\u001b[0m \u001b[1m1s\u001b[0m 3ms/step - accuracy: 0.8677 - loss: 0.3356\n",
            "Epoch 93/100\n",
            "\u001b[1m250/250\u001b[0m \u001b[32m━━━━━━━━━━━━━━━━━━━━\u001b[0m\u001b[37m\u001b[0m \u001b[1m1s\u001b[0m 2ms/step - accuracy: 0.8652 - loss: 0.3322\n",
            "Epoch 94/100\n",
            "\u001b[1m250/250\u001b[0m \u001b[32m━━━━━━━━━━━━━━━━━━━━\u001b[0m\u001b[37m\u001b[0m \u001b[1m1s\u001b[0m 2ms/step - accuracy: 0.8631 - loss: 0.3292\n",
            "Epoch 95/100\n",
            "\u001b[1m250/250\u001b[0m \u001b[32m━━━━━━━━━━━━━━━━━━━━\u001b[0m\u001b[37m\u001b[0m \u001b[1m0s\u001b[0m 2ms/step - accuracy: 0.8624 - loss: 0.3318\n",
            "Epoch 96/100\n",
            "\u001b[1m250/250\u001b[0m \u001b[32m━━━━━━━━━━━━━━━━━━━━\u001b[0m\u001b[37m\u001b[0m \u001b[1m1s\u001b[0m 2ms/step - accuracy: 0.8556 - loss: 0.3478\n",
            "Epoch 97/100\n",
            "\u001b[1m250/250\u001b[0m \u001b[32m━━━━━━━━━━━━━━━━━━━━\u001b[0m\u001b[37m\u001b[0m \u001b[1m1s\u001b[0m 2ms/step - accuracy: 0.8646 - loss: 0.3389\n",
            "Epoch 98/100\n",
            "\u001b[1m250/250\u001b[0m \u001b[32m━━━━━━━━━━━━━━━━━━━━\u001b[0m\u001b[37m\u001b[0m \u001b[1m1s\u001b[0m 2ms/step - accuracy: 0.8657 - loss: 0.3273\n",
            "Epoch 99/100\n",
            "\u001b[1m250/250\u001b[0m \u001b[32m━━━━━━━━━━━━━━━━━━━━\u001b[0m\u001b[37m\u001b[0m \u001b[1m1s\u001b[0m 2ms/step - accuracy: 0.8714 - loss: 0.3187\n",
            "Epoch 100/100\n",
            "\u001b[1m250/250\u001b[0m \u001b[32m━━━━━━━━━━━━━━━━━━━━\u001b[0m\u001b[37m\u001b[0m \u001b[1m1s\u001b[0m 2ms/step - accuracy: 0.8626 - loss: 0.3321\n"
          ]
        },
        {
          "output_type": "execute_result",
          "data": {
            "text/plain": [
              "<keras.src.callbacks.history.History at 0x788c49bf8520>"
            ]
          },
          "metadata": {},
          "execution_count": 81
        }
      ]
    },
    {
      "cell_type": "markdown",
      "source": [
        "Kode ini melatih model jaringan saraf yang telah dibangun menggunakan metode **`fit()`**. Dalam hal ini, **`X_train`** dan **`y_train`** adalah data fitur dan label target yang digunakan untuk melatih model. Parameter **`batch_size=32`** menunjukkan bahwa pembaruan bobot akan dilakukan setiap 32 sampel, yang dapat membantu dalam stabilitas dan kecepatan pelatihan. Selain itu, **`epochs=100`** berarti model akan dilatih selama 100 iterasi penuh melalui seluruh dataset pelatihan. Saat dijalankan, kode ini memulai proses pelatihan, memungkinkan model untuk belajar dari data dan meningkatkan kemampuannya dalam memprediksi hasil yang benar."
      ],
      "metadata": {
        "id": "Lkcyg5q6XmWJ"
      }
    },
    {
      "cell_type": "markdown",
      "source": [
        "# Membuat Prediksi\n",
        "Diberikan informasi sebagai berikut,\n",
        "- Geography: France\n",
        "- Credit Score: 600\n",
        "- Gender: Male\n",
        "- Age: 40 years old\n",
        "- Tenure: 3 years\n",
        "- Balance: $ 60000\n",
        "- Number of Products: 2\n",
        "- Does this customer have a credit card ? Yes\n",
        "\n",
        "- Is this customer an Active Member: Yes\n",
        "- Estimated Salary: $ 50000\n",
        "\n",
        "Apakah customer tersebut perlu dipertahankan?"
      ],
      "metadata": {
        "id": "CbONHKatX0RH"
      }
    },
    {
      "cell_type": "markdown",
      "source": [
        "Berdasarkan hasil prediksi, model mengeluarkan nilai **`[[False]]`** untuk pelanggan tersebut. Ini menunjukkan bahwa pelanggan tersebut **tidak perlu dipertahankan** karena model memprediksi bahwa pelanggan ini **tidak akan mengalami churn**.\n",
        "\n",
        "Lebih lanjut, dengan melihat hasil dari matriks kebingungan dan akurasi model:\n",
        "- Matriks kebingungan **`[[1502, 93], [183, 222]]`** menunjukkan bahwa model cukup baik dalam membedakan antara pelanggan yang akan churn dan tidak.\n",
        "- Akurasi model sebesar **0.862** (86.2%) menunjukkan bahwa model secara umum memberikan prediksi yang akurat.\n",
        "\n",
        "Dengan demikian, berdasarkan informasi yang diberikan dan hasil prediksi dari model, pelanggan ini tidak dianggap perlu dipertahankan."
      ],
      "metadata": {
        "id": "2QKG0OY7ZPSh"
      }
    },
    {
      "cell_type": "markdown",
      "source": [
        "# Modelkan Data Baru dan Buat Prediksi"
      ],
      "metadata": {
        "id": "zAtaZ1pHYJwx"
      }
    },
    {
      "cell_type": "code",
      "source": [
        "print(ann.predict(sc.transform([[1, 0, 0, 600, 1, 40, 3, 60000, 2, 1, 1, 50000]])) > 0.5)"
      ],
      "metadata": {
        "id": "1N05hhJKXlsN",
        "outputId": "04da34a5-e333-49c8-e5e0-9e262f1bc5ca",
        "colab": {
          "base_uri": "https://localhost:8080/"
        }
      },
      "execution_count": 82,
      "outputs": [
        {
          "output_type": "stream",
          "name": "stdout",
          "text": [
            "\u001b[1m1/1\u001b[0m \u001b[32m━━━━━━━━━━━━━━━━━━━━\u001b[0m\u001b[37m\u001b[0m \u001b[1m0s\u001b[0m 69ms/step\n",
            "[[False]]\n"
          ]
        }
      ]
    },
    {
      "cell_type": "markdown",
      "source": [
        "Kode ini menggunakan model jaringan saraf yang telah dilatih untuk melakukan prediksi pada data baru. Dengan memanggil **`ann.predict()`**, model memberikan prediksi untuk input yang telah distandarisasi menggunakan **`sc.transform()`**. Input yang diberikan dalam bentuk array mencakup berbagai fitur yang relevan, seperti status, usia, saldo, dan lain-lain. Hasil prediksi adalah nilai probabilitas, dan kode ini memeriksa apakah nilai tersebut lebih besar dari 0.5 untuk menentukan kelasnya; jika lebih besar, hasilnya akan **True** (memprediksi kelas 1), dan jika kurang atau sama, hasilnya akan **False** (memprediksi kelas 0). Dalam output, **`[[False]]`** menunjukkan bahwa model memprediksi bahwa input tersebut tidak termasuk dalam kelas positif (dalam konteks ini, kemungkinan besar berarti tidak akan mengalami churn). Saat dijalankan, kode ini memberikan hasil prediksi dari model berdasarkan data yang baru."
      ],
      "metadata": {
        "id": "c2ZIlV70Yf52"
      }
    },
    {
      "cell_type": "markdown",
      "source": [
        "Apakah hasilnya False?\n",
        "Jawab: Iya False"
      ],
      "metadata": {
        "id": "1-7Ho8YKYRDu"
      }
    },
    {
      "cell_type": "markdown",
      "source": [
        "# Prediksi Dengan Data Testing"
      ],
      "metadata": {
        "id": "R46umIIdYV8G"
      }
    },
    {
      "cell_type": "code",
      "source": [
        "y_pred = ann.predict(X_test)\n",
        "y_pred = (y_pred > 0.5)\n",
        "print(np.concatenate((y_pred.reshape(len(y_pred),1), y_test.reshape(len(y_test),1)),1))"
      ],
      "metadata": {
        "id": "qi4wGEkUYYVa",
        "outputId": "a1d08cce-2379-43b1-f156-4964c82cab40",
        "colab": {
          "base_uri": "https://localhost:8080/"
        }
      },
      "execution_count": 83,
      "outputs": [
        {
          "output_type": "stream",
          "name": "stdout",
          "text": [
            "\u001b[1m63/63\u001b[0m \u001b[32m━━━━━━━━━━━━━━━━━━━━\u001b[0m\u001b[37m\u001b[0m \u001b[1m0s\u001b[0m 1ms/step\n",
            "[[0 0]\n",
            " [0 1]\n",
            " [0 0]\n",
            " ...\n",
            " [0 0]\n",
            " [0 0]\n",
            " [0 0]]\n"
          ]
        }
      ]
    },
    {
      "cell_type": "markdown",
      "source": [
        "Kode ini melakukan prediksi terhadap data pengujian **`X_test`** menggunakan model jaringan saraf yang telah dilatih, dengan hasil prediksi disimpan dalam **`y_pred`**. Nilai probabilitas hasil prediksi dibandingkan dengan ambang batas 0.5; jika lebih besar, nilai prediksi diubah menjadi **True** (atau 1), dan jika tidak, menjadi **False** (atau 0). Selanjutnya, kode ini menggabungkan hasil prediksi dengan label sebenarnya dari data pengujian **`y_test`** menggunakan **`np.concatenate()`**, yang membuat array dua kolom; kolom pertama berisi prediksi dan kolom kedua berisi nilai aktual. Output menunjukkan hasil prediksi dan label asli, di mana **`[[0 0], [0 1], ...]`** menggambarkan setiap baris sebagai [prediksi, label aktual]. Saat dijalankan, kode ini memberikan gambaran tentang kinerja model pada data pengujian dengan memperlihatkan hasil prediksi dibandingkan dengan label yang sebenarnya."
      ],
      "metadata": {
        "id": "6m1mz0FMYkDW"
      }
    },
    {
      "cell_type": "markdown",
      "source": [
        "# Cek Akurasi dan Confusion Matrix"
      ],
      "metadata": {
        "id": "n9lMoRhgYl-w"
      }
    },
    {
      "cell_type": "code",
      "source": [
        "from sklearn.metrics import confusion_matrix, accuracy_score\n",
        "cm = confusion_matrix(y_test, y_pred)\n",
        "print(cm)\n",
        "accuracy_score(y_test, y_pred)"
      ],
      "metadata": {
        "id": "EcZyrL17YrER",
        "outputId": "6928545a-02b9-4690-d847-bf5a4bde0f01",
        "colab": {
          "base_uri": "https://localhost:8080/"
        }
      },
      "execution_count": 84,
      "outputs": [
        {
          "output_type": "stream",
          "name": "stdout",
          "text": [
            "[[1502   93]\n",
            " [ 183  222]]\n"
          ]
        },
        {
          "output_type": "execute_result",
          "data": {
            "text/plain": [
              "0.862"
            ]
          },
          "metadata": {},
          "execution_count": 84
        }
      ]
    },
    {
      "cell_type": "markdown",
      "source": [
        "Kode ini menghitung dan menampilkan matriks kebingungan (confusion matrix) serta akurasi model pada data pengujian **`X_test`**. Dengan menggunakan **`confusion_matrix()`**, matriks kebingungan yang dihasilkan menunjukkan jumlah prediksi yang benar dan salah untuk setiap kelas; dalam hal ini, output **`[[1502, 93], [183, 222]]`** berarti model benar memprediksi 1502 kasus kelas negatif dan 222 kasus kelas positif, tetapi salah memprediksi 93 kasus positif sebagai negatif dan 183 kasus negatif sebagai positif. Selanjutnya, **`accuracy_score()`** digunakan untuk menghitung akurasi model, yang dalam kasus ini adalah **0.862** atau 86.2%, menunjukkan persentase prediksi yang benar dari total prediksi. Saat dijalankan, kode ini memberikan wawasan tentang kinerja model dengan menunjukkan baik matriks kebingungan maupun nilai akurasi."
      ],
      "metadata": {
        "id": "lhuALTCzY3Cp"
      }
    }
  ]
}