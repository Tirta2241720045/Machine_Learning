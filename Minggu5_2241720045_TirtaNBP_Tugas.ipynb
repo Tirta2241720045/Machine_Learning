{
  "nbformat": 4,
  "nbformat_minor": 0,
  "metadata": {
    "colab": {
      "provenance": [],
      "mount_file_id": "https://github.com/Tirta2241720045/Machine_Learning/blob/main/Minggu5_2241720045_TirtaNBP_Tugas.ipynb",
      "authorship_tag": "ABX9TyMXksFJD+/DgRwiyB7hK0NY",
      "include_colab_link": true
    },
    "kernelspec": {
      "name": "python3",
      "display_name": "Python 3"
    },
    "language_info": {
      "name": "python"
    }
  },
  "cells": [
    {
      "cell_type": "markdown",
      "metadata": {
        "id": "view-in-github",
        "colab_type": "text"
      },
      "source": [
        "<a href=\"https://colab.research.google.com/github/Tirta2241720045/Machine_Learning/blob/main/Minggu5_2241720045_TirtaNBP_Tugas.ipynb\" target=\"_parent\"><img src=\"https://colab.research.google.com/assets/colab-badge.svg\" alt=\"Open In Colab\"/></a>"
      ]
    },
    {
      "cell_type": "markdown",
      "source": [
        "# Tugas 1"
      ],
      "metadata": {
        "id": "NHGZIJTJ_v8Y"
      }
    },
    {
      "cell_type": "markdown",
      "source": [
        "1. Buatlah model klasifikasi dengan menggunakan SVM untuk data suara, voice.csv."
      ],
      "metadata": {
        "id": "CsDNI-QYGYea"
      }
    },
    {
      "cell_type": "code",
      "source": [
        "import pandas as pd\n",
        "from sklearn.svm import SVC\n",
        "from sklearn.model_selection import train_test_split\n",
        "from sklearn.metrics import accuracy_score\n",
        "from sklearn.preprocessing import StandardScaler, LabelEncoder\n",
        "\n",
        "# Muat dataset suara\n",
        "df = pd.read_csv('/content/drive/MyDrive/dataset/voice.csv')\n",
        "\n",
        "# Pisahkan fitur dan label\n",
        "X = df.drop(columns=['label'])\n",
        "y = df['label']\n",
        "\n",
        "# Skala fitur\n",
        "X = StandardScaler().fit_transform(X)\n",
        "\n",
        "# Encode label\n",
        "y = LabelEncoder().fit_transform(y)\n",
        "\n",
        "# Bagi data menjadi set pelatihan dan pengujian\n",
        "X_train, X_test, y_train, y_test = train_test_split(X, y, test_size=0.2, random_state=50)\n",
        "\n",
        "# Latih model SVM\n",
        "svm_model = SVC()\n",
        "svm_model.fit(X_train, y_train)\n",
        "\n",
        "# Lakukan prediksi dan evaluasi akurasi\n",
        "accuracy = accuracy_score(y_test, svm_model.predict(X_test))\n",
        "print(f\"Prediction accuracy: {accuracy:.4f}\")\n"
      ],
      "metadata": {
        "id": "JCjZT9b__wWj",
        "outputId": "3958db0a-ec69-4bb0-d1df-d8ea6798ef92",
        "colab": {
          "base_uri": "https://localhost:8080/"
        }
      },
      "execution_count": 19,
      "outputs": [
        {
          "output_type": "stream",
          "name": "stdout",
          "text": [
            "Prediction accuracy: 0.9795\n"
          ]
        }
      ]
    },
    {
      "cell_type": "markdown",
      "source": [
        "### Hasil\n",
        "Akurasi model:\n",
        "```\n",
        "Prediction accuracy: 0.9795\n",
        "```\n",
        "\n",
        "### Kesimpulan\n",
        "Model SVM menunjukkan akurasi tinggi, menandakan efektivitasnya dalam klasifikasi suara."
      ],
      "metadata": {
        "id": "7wu-POVhKrc3"
      }
    },
    {
      "cell_type": "markdown",
      "source": [
        "2. Buatlah model klasfikasi Multinomial Naive Bayes dengan ketentuan,\n",
        "  1. Menggunakan data spam.csv\n",
        "  2. Fitur CountVectorizer dengan mengaktifkan stop_words\n",
        "  3. Evaluasi hasilnya"
      ],
      "metadata": {
        "id": "nXRrxlLGGr1q"
      }
    },
    {
      "cell_type": "code",
      "source": [
        "import pandas as pd\n",
        "from sklearn.model_selection import train_test_split\n",
        "from sklearn.feature_extraction.text import CountVectorizer\n",
        "from sklearn.naive_bayes import MultinomialNB\n",
        "from sklearn.metrics import accuracy_score, classification_report\n",
        "\n",
        "# Muat dataset spam\n",
        "df = pd.read_csv('/content/drive/MyDrive/dataset/spam.csv', encoding='latin-1').iloc[:, :2]\n",
        "df.columns = ['Labels', 'SMS']\n",
        "\n",
        "# Pisahkan fitur dan label\n",
        "X = df['SMS']\n",
        "y = df['Labels']\n",
        "\n",
        "# Bagi data menjadi set pelatihan dan pengujian\n",
        "X_train, X_test, y_train, y_test = train_test_split(X, y, test_size=0.2, random_state=50)\n",
        "\n",
        "# Inisiasi CountVectorizer dengan stop_words\n",
        "bow = CountVectorizer(stop_words='english')\n",
        "X_train_bow = bow.fit_transform(X_train)\n",
        "X_test_bow = bow.transform(X_test)\n",
        "\n",
        "# Fit model Naive Bayes\n",
        "mnb = MultinomialNB().fit(X_train_bow, y_train)\n",
        "\n",
        "# Prediksi dan evaluasi data pelatihan\n",
        "y_pred_train = mnb.predict(X_train_bow)\n",
        "acc_train = accuracy_score(y_train, y_pred_train)\n",
        "\n",
        "# Prediksi dan evaluasi data pengujian\n",
        "y_pred_test = mnb.predict(X_test_bow)\n",
        "acc_test = accuracy_score(y_test, y_pred_test)\n",
        "\n",
        "# Print hasil evaluasi\n",
        "print(f'Hasil akurasi data train: {acc_train:.4f}')\n",
        "print(f'Hasil akurasi data test: {acc_test:.4f}')\n",
        "print('Report Klasifikasi (Data Test):\\n', classification_report(y_test, y_pred_test))"
      ],
      "metadata": {
        "id": "BA0n4N8UJRwq",
        "outputId": "aac9810a-1734-415a-ff1f-d09430908d42",
        "colab": {
          "base_uri": "https://localhost:8080/"
        }
      },
      "execution_count": 26,
      "outputs": [
        {
          "output_type": "stream",
          "name": "stdout",
          "text": [
            "Hasil akurasi data train: 0.9946\n",
            "Hasil akurasi data test: 0.9830\n",
            "Report Klasifikasi (Data Test):\n",
            "               precision    recall  f1-score   support\n",
            "\n",
            "         ham       0.98      1.00      0.99       954\n",
            "        spam       0.98      0.90      0.94       161\n",
            "\n",
            "    accuracy                           0.98      1115\n",
            "   macro avg       0.98      0.95      0.96      1115\n",
            "weighted avg       0.98      0.98      0.98      1115\n",
            "\n"
          ]
        }
      ]
    },
    {
      "cell_type": "markdown",
      "source": [
        "### Hasil\n",
        "\n",
        "Dari hasil running program, berikut adalah output yang diperoleh:\n",
        "\n",
        "- **Hasil Akurasi Data Train**:\n",
        "  ```\n",
        "  Hasil akurasi data train: 0.9946\n",
        "  ```\n",
        "\n",
        "- **Hasil Akurasi Data Test**:\n",
        "  ```\n",
        "  Hasil akurasi data test: 0.9830\n",
        "  ```\n",
        "\n",
        "- **Report Klasifikasi (Data Test)**:\n",
        "  ```\n",
        "                  precision    recall  f1-score   support\n",
        "\n",
        "            ham       0.98      1.00      0.99       954\n",
        "           spam       0.98      0.90      0.94       161\n",
        "\n",
        "       accuracy                           0.98      1115\n",
        "  ```\n",
        "\n",
        "### Kesimpulan\n",
        "\n",
        "1. **Akurasi**: Model mencapai akurasi 99.46% pada data train dan 98.30% pada data test, menunjukkan performa yang sangat baik dalam klasifikasi SMS.\n",
        "2. **Kinerja**: Sangat efektif dalam mendeteksi \"ham\" (Recall 1.00) dan cukup baik untuk \"spam\" (Recall 0.90).\n",
        "3. **Keseimbangan**: Meskipun model baik dalam mendeteksi \"ham\", ada ruang untuk meningkatkan deteksi \"spam\" agar lebih seimbang."
      ],
      "metadata": {
        "id": "jKzT9iHVKbDo"
      }
    },
    {
      "cell_type": "markdown",
      "source": [
        "\n",
        "3. Buatlah model klasfikasi Multinomial Naive Bayes dengan ketentuan,\n",
        "  1. Menggunakan data spam.csv\n",
        "  2. Fitur TF-IDF dengan mengaktifkan stop_words\n",
        "  3. Evaluasi hasilnya dan bandingkan dengan hasil pada Tugas no 2.\n",
        "  4. Berikan kesimpulan fitur mana yang terbaik pada kasus data spam.csv"
      ],
      "metadata": {
        "id": "EznCAQbfKvYi"
      }
    },
    {
      "cell_type": "code",
      "source": [
        "import pandas as pd\n",
        "from sklearn.model_selection import train_test_split\n",
        "from sklearn.feature_extraction.text import TfidfVectorizer\n",
        "from sklearn.naive_bayes import MultinomialNB\n",
        "from sklearn.metrics import accuracy_score, classification_report\n",
        "\n",
        "# Muat dataset spam\n",
        "df = pd.read_csv('/content/drive/MyDrive/dataset/spam.csv', encoding='latin-1').iloc[:, :2]\n",
        "df.columns = ['Labels', 'SMS']\n",
        "\n",
        "# Pisahkan fitur dan label\n",
        "X = df['SMS']\n",
        "y = df['Labels']\n",
        "\n",
        "# Bagi data menjadi set pelatihan dan pengujian\n",
        "X_train, X_test, y_train, y_test = train_test_split(X, y, test_size=0.2, random_state=50)\n",
        "\n",
        "# Inisiasi TfidfVectorizer dengan stop_words\n",
        "tfidf = TfidfVectorizer(stop_words='english')\n",
        "X_train_tfidf = tfidf.fit_transform(X_train)\n",
        "X_test_tfidf = tfidf.transform(X_test)\n",
        "\n",
        "# Fit model Multinomial Naive Bayes\n",
        "mnb = MultinomialNB().fit(X_train_tfidf, y_train)\n",
        "\n",
        "# Prediksi dan evaluasi data pelatihan\n",
        "y_pred_train = mnb.predict(X_train_tfidf)\n",
        "acc_train = accuracy_score(y_train, y_pred_train)\n",
        "\n",
        "# Prediksi dan evaluasi data pengujian\n",
        "y_pred_test = mnb.predict(X_test_tfidf)\n",
        "acc_test = accuracy_score(y_test, y_pred_test)\n",
        "\n",
        "# Print hasil evaluasi\n",
        "print(f'Hasil akurasi data train: {acc_train:.4f}')\n",
        "print(f'Hasil akurasi data test: {acc_test:.4f}')\n",
        "print('Report Klasifikasi (Data Test):\\n', classification_report(y_test, y_pred_test))"
      ],
      "metadata": {
        "id": "fOyzk2BnLHDo",
        "outputId": "acb7fa53-ab14-4626-c584-c5b1544a27d4",
        "colab": {
          "base_uri": "https://localhost:8080/"
        }
      },
      "execution_count": 27,
      "outputs": [
        {
          "output_type": "stream",
          "name": "stdout",
          "text": [
            "Hasil akurasi data train: 0.9843\n",
            "Hasil akurasi data test: 0.9605\n",
            "Report Klasifikasi (Data Test):\n",
            "               precision    recall  f1-score   support\n",
            "\n",
            "         ham       0.96      1.00      0.98       954\n",
            "        spam       1.00      0.73      0.84       161\n",
            "\n",
            "    accuracy                           0.96      1115\n",
            "   macro avg       0.98      0.86      0.91      1115\n",
            "weighted avg       0.96      0.96      0.96      1115\n",
            "\n"
          ]
        }
      ]
    },
    {
      "cell_type": "markdown",
      "source": [
        "### Hasil\n",
        "\n",
        "- **Hasil Akurasi Data Train**: 0.9843\n",
        "- **Hasil Akurasi Data Test**: 0.9605\n",
        "\n",
        "- **Report Klasifikasi (Data Test)**:\n",
        "  ```\n",
        "               precision    recall  f1-score   support\n",
        "\n",
        "         ham       0.96      1.00      0.98       954\n",
        "        spam       1.00      0.73      0.84       161\n",
        "\n",
        "    accuracy                           0.96      1115\n",
        "  ```\n",
        "\n",
        "### Kesimpulan\n",
        "\n",
        "1. **Akurasi**: Model mencapai akurasi 98.43% pada data train dan 96.05% pada data test.\n",
        "2. **Kinerja**: Sangat efektif mendeteksi \"ham\", tetapi kurang optimal untuk \"spam\" (Recall 0.73).\n",
        "3. **Rekomendasi**: Perbaikan diperlukan untuk mendeteksi spam lebih baik, mungkin dengan teknik penyeimbangan data."
      ],
      "metadata": {
        "id": "nnzMCcy-LHa5"
      }
    },
    {
      "cell_type": "markdown",
      "source": [
        "# Tugas 2\n",
        "Buatlah model klasifikasi dengan menggunakan SVM berdasarkan data pada Percobaan 5 dengan menggunakan **fitur histogram.**"
      ],
      "metadata": {
        "id": "ozQpx_Fs_niD"
      }
    },
    {
      "cell_type": "markdown",
      "source": [
        "### 1. **Library Import**"
      ],
      "metadata": {
        "id": "uUCbTo5RDFs3"
      }
    },
    {
      "cell_type": "code",
      "source": [
        "from pathlib import Path\n",
        "import matplotlib.pyplot as plt\n",
        "import cv2\n",
        "import numpy as np\n",
        "import pandas as pd\n",
        "from sklearn.svm import SVC\n",
        "from sklearn.metrics import accuracy_score"
      ],
      "metadata": {
        "id": "dJuP9qDADIFk"
      },
      "execution_count": 8,
      "outputs": []
    },
    {
      "cell_type": "markdown",
      "source": [
        "- **Langkah**: Mengimpor library yang dibutuhkan.\n",
        "- **Fungsi**:\n",
        "  - `Path` untuk navigasi file sistem.\n",
        "  - `cv2` (OpenCV) untuk operasi gambar seperti membaca gambar, konversi warna, dan menghitung histogram.\n",
        "  - `numpy` untuk operasi array.\n",
        "  - `pandas` untuk penyimpanan data dalam bentuk DataFrame.\n",
        "  - `SVC` dari `sklearn` untuk membuat model SVM (Support Vector Machine).\n",
        "  - `accuracy_score` dari `sklearn` untuk menghitung akurasi model."
      ],
      "metadata": {
        "id": "l-9-WjqnDKT6"
      }
    },
    {
      "cell_type": "markdown",
      "source": [
        "### 2. **Fungsi Load Dataset**\n"
      ],
      "metadata": {
        "id": "UuIoRqI3Dq-S"
      }
    },
    {
      "cell_type": "code",
      "source": [
        "def load_dataset(img_dir):\n",
        "    p = Path(img_dir)\n",
        "    dirs = p.glob('*')\n",
        "\n",
        "    img_list = []\n",
        "\n",
        "    for dir in dirs:\n",
        "        label = str(dir).split('/')[-1]\n",
        "        for file in dir.glob('*.jpg'):\n",
        "            img = cv2.imread(str(file))\n",
        "\n",
        "            if img is not None:\n",
        "                img_list.append((img, label))\n",
        "\n",
        "    return img_list"
      ],
      "metadata": {
        "id": "oDC5_2zlDM54"
      },
      "execution_count": 9,
      "outputs": []
    },
    {
      "cell_type": "markdown",
      "source": [
        "- **Langkah**: Memuat dataset gambar.\n",
        "- **Fungsi**:\n",
        "  - Membaca gambar dari folder `train_dir` dan `test_dir`.\n",
        "  - Setiap gambar disimpan sebagai tuple berisi gambar itu sendiri (array) dan label (nama folder di mana gambar itu berada).\n",
        "- **Alur Kerja**: Fungsi ini mengembalikan daftar gambar dan label, yang akan digunakan untuk ekstraksi fitur."
      ],
      "metadata": {
        "id": "mSpoLMhxDwns"
      }
    },
    {
      "cell_type": "markdown",
      "source": [
        "### 3. **Load Training dan Test Data**"
      ],
      "metadata": {
        "id": "fob3SBzRD1P6"
      }
    },
    {
      "cell_type": "code",
      "source": [
        "train_dir = \"/content/drive/MyDrive/dataset/images/training\"\n",
        "test_dir = \"/content/drive/MyDrive/dataset/images/test\"\n",
        "\n",
        "train_img = load_dataset(train_dir)\n",
        "test_img = load_dataset(test_dir)"
      ],
      "metadata": {
        "id": "kjADYXZFD4O2"
      },
      "execution_count": 10,
      "outputs": []
    },
    {
      "cell_type": "markdown",
      "source": [
        "- **Langkah**: Memanggil fungsi `load_dataset` untuk memuat gambar dari folder `training` dan `test`.\n",
        "- **Fungsi**:\n",
        "  - Gambar dari folder `train_dir` dimuat ke dalam `train_img`, dan dari `test_dir` dimuat ke dalam `test_img`."
      ],
      "metadata": {
        "id": "fMbCX3zcEGYc"
      }
    },
    {
      "cell_type": "markdown",
      "source": [
        "### 4. **Fungsi Ekstraksi Fitur Histogram**"
      ],
      "metadata": {
        "id": "5TTdzsDFELFQ"
      }
    },
    {
      "cell_type": "code",
      "source": [
        "def extract_histogram_features(img_list, bins=32):\n",
        "    hist_features = []\n",
        "    labels = []\n",
        "\n",
        "    for img, label in img_list:\n",
        "        gray_img = cv2.cvtColor(img, cv2.COLOR_BGR2GRAY)\n",
        "\n",
        "        hist = cv2.calcHist([gray_img], [0], None, [bins], [0, 256])\n",
        "        hist = cv2.normalize(hist, hist).flatten()\n",
        "\n",
        "        hist_features.append(hist)\n",
        "        labels.append(label)\n",
        "\n",
        "    df = pd.DataFrame(hist_features)\n",
        "    df['LABELS'] = labels\n",
        "\n",
        "    return df"
      ],
      "metadata": {
        "id": "JwoEp3-yENng"
      },
      "execution_count": 11,
      "outputs": []
    },
    {
      "cell_type": "markdown",
      "source": [
        "- **Langkah**: Ekstraksi fitur histogram.\n",
        "- **Fungsi**:\n",
        "  - Gambar diubah menjadi grayscale.\n",
        "  - Histogram dihitung menggunakan fungsi `cv2.calcHist`, dan hasilnya dinormalisasi serta disimpan dalam bentuk array.\n",
        "  - Fitur histogram dan label dimasukkan ke dalam DataFrame untuk analisis lebih lanjut.\n",
        "- **Alur Kerja**: Fitur histogram dari setiap gambar digunakan sebagai input untuk pelatihan model."
      ],
      "metadata": {
        "id": "ogWj078-EQ1g"
      }
    },
    {
      "cell_type": "markdown",
      "source": [
        "### 5. **Ekstraksi Fitur Histogram untuk Data Training dan Test**\n"
      ],
      "metadata": {
        "id": "WCOUItgyEVPI"
      }
    },
    {
      "cell_type": "code",
      "source": [
        "train_hist_img = extract_histogram_features(train_img)\n",
        "test_hist_img = extract_histogram_features(test_img)"
      ],
      "metadata": {
        "id": "oeBmE-D8EXmh"
      },
      "execution_count": 12,
      "outputs": []
    },
    {
      "cell_type": "markdown",
      "source": [
        "- **Langkah**: Memanggil fungsi `extract_histogram_features` untuk menghitung histogram dari gambar training dan test.\n",
        "- **Fungsi**: Hasilnya disimpan dalam DataFrame `train_hist_img` dan `test_hist_img`, di mana setiap kolom menyimpan histogram, dan kolom `LABELS` menyimpan label."
      ],
      "metadata": {
        "id": "Woug_qYNEbPO"
      }
    },
    {
      "cell_type": "markdown",
      "source": [
        "### 6. **Memisahkan Data dan Label**"
      ],
      "metadata": {
        "id": "94plil-sEcQf"
      }
    },
    {
      "cell_type": "code",
      "source": [
        "X_train = train_hist_img.drop(columns=['LABELS']).values\n",
        "y_train = train_hist_img['LABELS']\n",
        "\n",
        "X_test = test_hist_img.drop(columns=['LABELS']).values\n",
        "y_test = test_hist_img['LABELS']"
      ],
      "metadata": {
        "id": "L7aauMfAEbqv"
      },
      "execution_count": 14,
      "outputs": []
    },
    {
      "cell_type": "markdown",
      "source": [
        "- **Langkah**: Memisahkan fitur dan label.\n",
        "- **Fungsi**:\n",
        "  - `X_train` dan `X_test` adalah data fitur histogram, sedangkan `y_train` dan `y_test` adalah label yang sesuai.\n",
        "- **Alur Kerja**: Data fitur digunakan untuk melatih model SVM, dan label digunakan untuk evaluasi."
      ],
      "metadata": {
        "id": "ncdfw2PZEnUg"
      }
    },
    {
      "cell_type": "markdown",
      "source": [
        "### 7. **Pelatihan Model SVM**\n"
      ],
      "metadata": {
        "id": "Di2DnIY6EsWp"
      }
    },
    {
      "cell_type": "code",
      "source": [
        "model = SVC()\n",
        "model.fit(X_train, y_train)"
      ],
      "metadata": {
        "id": "KSwausYpEn4v",
        "outputId": "85e080e7-9573-47dc-b0db-957bbe063972",
        "colab": {
          "base_uri": "https://localhost:8080/",
          "height": 52
        }
      },
      "execution_count": 15,
      "outputs": [
        {
          "output_type": "execute_result",
          "data": {
            "text/plain": [
              "SVC()"
            ],
            "text/html": [
              "<style>#sk-container-id-1 {color: black;}#sk-container-id-1 pre{padding: 0;}#sk-container-id-1 div.sk-toggleable {background-color: white;}#sk-container-id-1 label.sk-toggleable__label {cursor: pointer;display: block;width: 100%;margin-bottom: 0;padding: 0.3em;box-sizing: border-box;text-align: center;}#sk-container-id-1 label.sk-toggleable__label-arrow:before {content: \"▸\";float: left;margin-right: 0.25em;color: #696969;}#sk-container-id-1 label.sk-toggleable__label-arrow:hover:before {color: black;}#sk-container-id-1 div.sk-estimator:hover label.sk-toggleable__label-arrow:before {color: black;}#sk-container-id-1 div.sk-toggleable__content {max-height: 0;max-width: 0;overflow: hidden;text-align: left;background-color: #f0f8ff;}#sk-container-id-1 div.sk-toggleable__content pre {margin: 0.2em;color: black;border-radius: 0.25em;background-color: #f0f8ff;}#sk-container-id-1 input.sk-toggleable__control:checked~div.sk-toggleable__content {max-height: 200px;max-width: 100%;overflow: auto;}#sk-container-id-1 input.sk-toggleable__control:checked~label.sk-toggleable__label-arrow:before {content: \"▾\";}#sk-container-id-1 div.sk-estimator input.sk-toggleable__control:checked~label.sk-toggleable__label {background-color: #d4ebff;}#sk-container-id-1 div.sk-label input.sk-toggleable__control:checked~label.sk-toggleable__label {background-color: #d4ebff;}#sk-container-id-1 input.sk-hidden--visually {border: 0;clip: rect(1px 1px 1px 1px);clip: rect(1px, 1px, 1px, 1px);height: 1px;margin: -1px;overflow: hidden;padding: 0;position: absolute;width: 1px;}#sk-container-id-1 div.sk-estimator {font-family: monospace;background-color: #f0f8ff;border: 1px dotted black;border-radius: 0.25em;box-sizing: border-box;margin-bottom: 0.5em;}#sk-container-id-1 div.sk-estimator:hover {background-color: #d4ebff;}#sk-container-id-1 div.sk-parallel-item::after {content: \"\";width: 100%;border-bottom: 1px solid gray;flex-grow: 1;}#sk-container-id-1 div.sk-label:hover label.sk-toggleable__label {background-color: #d4ebff;}#sk-container-id-1 div.sk-serial::before {content: \"\";position: absolute;border-left: 1px solid gray;box-sizing: border-box;top: 0;bottom: 0;left: 50%;z-index: 0;}#sk-container-id-1 div.sk-serial {display: flex;flex-direction: column;align-items: center;background-color: white;padding-right: 0.2em;padding-left: 0.2em;position: relative;}#sk-container-id-1 div.sk-item {position: relative;z-index: 1;}#sk-container-id-1 div.sk-parallel {display: flex;align-items: stretch;justify-content: center;background-color: white;position: relative;}#sk-container-id-1 div.sk-item::before, #sk-container-id-1 div.sk-parallel-item::before {content: \"\";position: absolute;border-left: 1px solid gray;box-sizing: border-box;top: 0;bottom: 0;left: 50%;z-index: -1;}#sk-container-id-1 div.sk-parallel-item {display: flex;flex-direction: column;z-index: 1;position: relative;background-color: white;}#sk-container-id-1 div.sk-parallel-item:first-child::after {align-self: flex-end;width: 50%;}#sk-container-id-1 div.sk-parallel-item:last-child::after {align-self: flex-start;width: 50%;}#sk-container-id-1 div.sk-parallel-item:only-child::after {width: 0;}#sk-container-id-1 div.sk-dashed-wrapped {border: 1px dashed gray;margin: 0 0.4em 0.5em 0.4em;box-sizing: border-box;padding-bottom: 0.4em;background-color: white;}#sk-container-id-1 div.sk-label label {font-family: monospace;font-weight: bold;display: inline-block;line-height: 1.2em;}#sk-container-id-1 div.sk-label-container {text-align: center;}#sk-container-id-1 div.sk-container {/* jupyter's `normalize.less` sets `[hidden] { display: none; }` but bootstrap.min.css set `[hidden] { display: none !important; }` so we also need the `!important` here to be able to override the default hidden behavior on the sphinx rendered scikit-learn.org. See: https://github.com/scikit-learn/scikit-learn/issues/21755 */display: inline-block !important;position: relative;}#sk-container-id-1 div.sk-text-repr-fallback {display: none;}</style><div id=\"sk-container-id-1\" class=\"sk-top-container\"><div class=\"sk-text-repr-fallback\"><pre>SVC()</pre><b>In a Jupyter environment, please rerun this cell to show the HTML representation or trust the notebook. <br />On GitHub, the HTML representation is unable to render, please try loading this page with nbviewer.org.</b></div><div class=\"sk-container\" hidden><div class=\"sk-item\"><div class=\"sk-estimator sk-toggleable\"><input class=\"sk-toggleable__control sk-hidden--visually\" id=\"sk-estimator-id-1\" type=\"checkbox\" checked><label for=\"sk-estimator-id-1\" class=\"sk-toggleable__label sk-toggleable__label-arrow\">SVC</label><div class=\"sk-toggleable__content\"><pre>SVC()</pre></div></div></div></div></div>"
            ]
          },
          "metadata": {},
          "execution_count": 15
        }
      ]
    },
    {
      "cell_type": "markdown",
      "source": [
        "- **Langkah**: Membuat dan melatih model SVM.\n",
        "- **Fungsi**:\n",
        "  - Model SVM dibuat menggunakan `SVC` dan dilatih dengan data training (`X_train`, `y_train`).\n",
        "- **Alur Kerja**: Model belajar pola dari histogram untuk membedakan antara gambar day/night.\n"
      ],
      "metadata": {
        "id": "neT1uYYVE8XV"
      }
    },
    {
      "cell_type": "markdown",
      "source": [
        "### 8. **Evaluasi Model**"
      ],
      "metadata": {
        "id": "vmjMFeerE9JX"
      }
    },
    {
      "cell_type": "code",
      "source": [
        "y_train_pred = model.predict(X_train)\n",
        "train_accuracy = accuracy_score(y_train, y_train_pred)\n",
        "\n",
        "y_test_pred = model.predict(X_test)\n",
        "test_accuracy = accuracy_score(y_test, y_test_pred)"
      ],
      "metadata": {
        "id": "-d_mC2MfE_2F"
      },
      "execution_count": 16,
      "outputs": []
    },
    {
      "cell_type": "markdown",
      "source": [
        "- **Langkah**: Membuat prediksi pada data training dan test.\n",
        "- **Fungsi**:\n",
        "  - `predict` digunakan untuk membuat prediksi pada data training dan test.\n",
        "  - Akurasi dihitung menggunakan `accuracy_score`.\n",
        "- **Alur Kerja**: Model dievaluasi dengan menghitung akurasi pada data training dan test."
      ],
      "metadata": {
        "id": "e51ahpRCFCRl"
      }
    },
    {
      "cell_type": "markdown",
      "source": [
        "### 9. **Hasil Evaluasi**"
      ],
      "metadata": {
        "id": "Zb8EicSjFJsx"
      }
    },
    {
      "cell_type": "code",
      "source": [
        "print(f'Accuracy on training data: {train_accuracy}')\n",
        "print(f'Accuracy on test data: {test_accuracy}')"
      ],
      "metadata": {
        "id": "hFL8GUOvFJEn",
        "outputId": "864e0221-70e0-4f54-a9a5-bcd959b47218",
        "colab": {
          "base_uri": "https://localhost:8080/"
        }
      },
      "execution_count": 17,
      "outputs": [
        {
          "output_type": "stream",
          "name": "stdout",
          "text": [
            "Accuracy on training data: 1.0\n",
            "Accuracy on test data: 0.95625\n"
          ]
        }
      ]
    },
    {
      "cell_type": "markdown",
      "source": [
        "- **Langkah**: Menampilkan akurasi model.\n",
        "- **Fungsi**:\n",
        "  - Menampilkan akurasi model pada data training dan test.\n",
        "- **Alur Kerja**: Hasil akhir memberikan gambaran seberapa baik model SVM dalam mengklasifikasikan gambar berdasarkan histogram.\n",
        "\n",
        "### **Kesimpulan dari Hasil**\n",
        "- Akurasi pada **training data** menunjukkan seberapa baik model mengenali pola pada data yang telah digunakan untuk pelatihan.\n",
        "- Akurasi pada **test data** menunjukkan seberapa baik model menggeneralisasi pola untuk data baru yang tidak pernah dilihat sebelumnya."
      ],
      "metadata": {
        "id": "Oga8nB8XFM2T"
      }
    },
    {
      "cell_type": "markdown",
      "source": [
        "Apabila akurasi training dan test cukup tinggi, dapat disimpulkan bahwa fitur histogram cukup baik dalam membedakan gambar **day** dan **night**. Jika ada perbedaan signifikan antara akurasi training dan test, maka mungkin ada overfitting atau underfitting pada model."
      ],
      "metadata": {
        "id": "upSnIkNhFRdp"
      }
    }
  ]
}