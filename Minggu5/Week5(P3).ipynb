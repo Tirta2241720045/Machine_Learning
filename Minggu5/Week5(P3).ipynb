{
 "cells": [
  {
   "cell_type": "markdown",
   "metadata": {},
   "source": [
    "# Praktikum 3\n",
    "Klasifikasi Naive Bayes dengan Data Dummy"
   ]
  },
  {
   "cell_type": "markdown",
   "metadata": {},
   "source": [
    "# Mendefiniskan Data Dummy"
   ]
  },
  {
   "cell_type": "code",
   "execution_count": 2,
   "metadata": {},
   "outputs": [
    {
     "name": "stdout",
     "output_type": "stream",
     "text": [
      "[[113  46]\n",
      " [ 10  76]\n",
      " [ 97 109]\n",
      " [236 126]\n",
      " [ 17  84]\n",
      " [ 82  82]\n",
      " [ 44  75]\n",
      " [ 56  68]\n",
      " [ 68 264]\n",
      " [ 10 165]\n",
      " [ 56 157]\n",
      " [ 65 104]\n",
      " [  8 150]\n",
      " [247   9]\n",
      " [ 16 197]\n",
      " [163   5]\n",
      " [ 26  28]\n",
      " [ 63 180]\n",
      " [ 47  88]\n",
      " [143 170]\n",
      " [ 18  71]\n",
      " [ 21  97]\n",
      " [112  99]\n",
      " [151 124]\n",
      " [135  84]\n",
      " [ 45 125]\n",
      " [134  71]\n",
      " [ 28 136]\n",
      " [118 122]\n",
      " [224 108]]\n",
      "[0 0 0 0 0 0 0 0 1 1 1 1 1 1 1 1 0 0 0 0 0 0 0 1 1 1 1 1 1 1]\n"
     ]
    }
   ],
   "source": [
    "import numpy as np\n",
    "from sklearn.datasets import make_classification\n",
    "\n",
    "# Membuat data dummy\n",
    "# Hasil dari make_classification berupa data fitur X dan label y\n",
    "# Label y akan berupa data yang sudah di encode (angka)\n",
    "X,y = make_classification(n_samples=30, n_features=2, n_classes=2, n_informative=2, n_redundant=0, n_repeated=0, shuffle=False)\n",
    "\n",
    "# Secara defalt, make_classfication menghasilkan nilai float\n",
    "# Kita perlu merubah dalam bentuk diskrit\n",
    "\n",
    "# Absolutekan nilai\n",
    "X = np.absolute(X)\n",
    "\n",
    "# Bulatkan nilai ke 2 angka dibelakang koma\n",
    "# Kalikan dengan 100 supaya tidak ada lagi koma\n",
    "X = np.round(X, 2) * 100\n",
    "\n",
    "# Ubah ke dalam bentuk integer\n",
    "X = X.astype(int)\n",
    "print(X)\n",
    "print(y)"
   ]
  },
  {
   "cell_type": "markdown",
   "metadata": {},
   "source": [
    "Parameter yang digunakan pada fungsi make_classification adalah,\n",
    "\n",
    "- n_samples: jumlah sampel yang diinginkan\n",
    "\n",
    "- n_features: jumlah fitur yang digunakan\n",
    "\n",
    "- n_classes: jumlah kelas\n",
    "\n",
    "- n_informative: jumlah fitur yang memiliki korelasi dengan kelas\n",
    "\n",
    "- n_redundant: jumlah fitur yang tidak memiliki korelasi dengan kelas\n",
    "\n",
    "- n_repeated: jumlah fitur yang diulang"
   ]
  },
  {
   "cell_type": "markdown",
   "metadata": {},
   "source": [
    "# (Opsional) Membuat Data Frame"
   ]
  },
  {
   "cell_type": "code",
   "execution_count": 3,
   "metadata": {},
   "outputs": [
    {
     "data": {
      "text/html": [
       "<div>\n",
       "<style scoped>\n",
       "    .dataframe tbody tr th:only-of-type {\n",
       "        vertical-align: middle;\n",
       "    }\n",
       "\n",
       "    .dataframe tbody tr th {\n",
       "        vertical-align: top;\n",
       "    }\n",
       "\n",
       "    .dataframe thead th {\n",
       "        text-align: right;\n",
       "    }\n",
       "</style>\n",
       "<table border=\"1\" class=\"dataframe\">\n",
       "  <thead>\n",
       "    <tr style=\"text-align: right;\">\n",
       "      <th></th>\n",
       "      <th>Fitur 1</th>\n",
       "      <th>Fitur 2</th>\n",
       "      <th>Label</th>\n",
       "    </tr>\n",
       "  </thead>\n",
       "  <tbody>\n",
       "    <tr>\n",
       "      <th>0</th>\n",
       "      <td>113</td>\n",
       "      <td>46</td>\n",
       "      <td>0</td>\n",
       "    </tr>\n",
       "    <tr>\n",
       "      <th>1</th>\n",
       "      <td>10</td>\n",
       "      <td>76</td>\n",
       "      <td>0</td>\n",
       "    </tr>\n",
       "    <tr>\n",
       "      <th>2</th>\n",
       "      <td>97</td>\n",
       "      <td>109</td>\n",
       "      <td>0</td>\n",
       "    </tr>\n",
       "    <tr>\n",
       "      <th>3</th>\n",
       "      <td>236</td>\n",
       "      <td>126</td>\n",
       "      <td>0</td>\n",
       "    </tr>\n",
       "    <tr>\n",
       "      <th>4</th>\n",
       "      <td>17</td>\n",
       "      <td>84</td>\n",
       "      <td>0</td>\n",
       "    </tr>\n",
       "  </tbody>\n",
       "</table>\n",
       "</div>"
      ],
      "text/plain": [
       "   Fitur 1  Fitur 2  Label\n",
       "0      113       46      0\n",
       "1       10       76      0\n",
       "2       97      109      0\n",
       "3      236      126      0\n",
       "4       17       84      0"
      ]
     },
     "execution_count": 3,
     "metadata": {},
     "output_type": "execute_result"
    }
   ],
   "source": [
    "import pandas as pd\n",
    "\n",
    "# Reshape label y menjadi 2D\n",
    "# Hal ini dilakukan karena kita akan menggabungkannya dengan data fitur X\n",
    "y_new = y.reshape(len(y), 1)\n",
    "\n",
    "# Gabungkan fitur X dan label y dalam data array\n",
    "data = np.concatenate((X, y_new), axis=1)\n",
    "\n",
    "# Definisikan nama kolom\n",
    "nama_kolom = ['Fitur 1', 'Fitur 2', 'Label']\n",
    "\n",
    "# Buat Data Frame\n",
    "df = pd.DataFrame(data, columns=nama_kolom)\n",
    "\n",
    "# Cek Data Frame\n",
    "df.head()"
   ]
  },
  {
   "cell_type": "markdown",
   "metadata": {},
   "source": [
    "Dikarenakan label masih berbetuk encoding angka, untuk mempermudah pembacaan data, kita dapat mengubah bentuknya dalam bentuk kategorial"
   ]
  },
  {
   "cell_type": "code",
   "execution_count": 4,
   "metadata": {},
   "outputs": [
    {
     "data": {
      "text/html": [
       "<div>\n",
       "<style scoped>\n",
       "    .dataframe tbody tr th:only-of-type {\n",
       "        vertical-align: middle;\n",
       "    }\n",
       "\n",
       "    .dataframe tbody tr th {\n",
       "        vertical-align: top;\n",
       "    }\n",
       "\n",
       "    .dataframe thead th {\n",
       "        text-align: right;\n",
       "    }\n",
       "</style>\n",
       "<table border=\"1\" class=\"dataframe\">\n",
       "  <thead>\n",
       "    <tr style=\"text-align: right;\">\n",
       "      <th></th>\n",
       "      <th>Fitur 1</th>\n",
       "      <th>Fitur 2</th>\n",
       "      <th>Label</th>\n",
       "    </tr>\n",
       "  </thead>\n",
       "  <tbody>\n",
       "    <tr>\n",
       "      <th>0</th>\n",
       "      <td>113</td>\n",
       "      <td>46</td>\n",
       "      <td>Kelas B</td>\n",
       "    </tr>\n",
       "    <tr>\n",
       "      <th>1</th>\n",
       "      <td>10</td>\n",
       "      <td>76</td>\n",
       "      <td>Kelas B</td>\n",
       "    </tr>\n",
       "    <tr>\n",
       "      <th>2</th>\n",
       "      <td>97</td>\n",
       "      <td>109</td>\n",
       "      <td>Kelas B</td>\n",
       "    </tr>\n",
       "    <tr>\n",
       "      <th>3</th>\n",
       "      <td>236</td>\n",
       "      <td>126</td>\n",
       "      <td>Kelas B</td>\n",
       "    </tr>\n",
       "    <tr>\n",
       "      <th>4</th>\n",
       "      <td>17</td>\n",
       "      <td>84</td>\n",
       "      <td>Kelas B</td>\n",
       "    </tr>\n",
       "  </tbody>\n",
       "</table>\n",
       "</div>"
      ],
      "text/plain": [
       "   Fitur 1  Fitur 2    Label\n",
       "0      113       46  Kelas B\n",
       "1       10       76  Kelas B\n",
       "2       97      109  Kelas B\n",
       "3      236      126  Kelas B\n",
       "4       17       84  Kelas B"
      ]
     },
     "execution_count": 4,
     "metadata": {},
     "output_type": "execute_result"
    }
   ],
   "source": [
    "# Definisikan nama label\n",
    "labels = {\n",
    "    1 : 'Kelas A',\n",
    "    0 : 'Kelas B'\n",
    "}\n",
    "\n",
    "# Copy Data Frame untuk menyimpan Data Frame baru\n",
    "# dengan label yang mudah untuk dibaca\n",
    "df_label = df.copy()\n",
    "\n",
    "# Ubah label dengan fungsi mapping dari Pandas\n",
    "# pada Data Frame df_label\n",
    "df_label['Label'] = df_label['Label'].map(labels)\n",
    "\n",
    "# Cek Data Frame df_label\n",
    "df_label.head()"
   ]
  },
  {
   "cell_type": "markdown",
   "metadata": {},
   "source": [
    "Kode tersebut mengubah label numerik dalam DataFrame menjadi label deskriptif ('Kelas A' dan 'Kelas B') menggunakan fungsi `map`, dan menampilkan DataFrame hasil perubahan tersebut."
   ]
  },
  {
   "cell_type": "markdown",
   "metadata": {},
   "source": [
    "# (Opsional) Visualisasi Data"
   ]
  },
  {
   "cell_type": "code",
   "execution_count": 5,
   "metadata": {},
   "outputs": [
    {
     "data": {
      "image/png": "[encoded data removed]",
      "text/plain": [
       "<Figure size 640x480 with 1 Axes>"
      ]
     },
     "metadata": {},
     "output_type": "display_data"
    }
   ],
   "source": [
    "import matplotlib.pyplot as plt\n",
    "\n",
    "# Definisikan warna untuk setiap kelas\n",
    "colors = {\n",
    "    'class_a': 'MediumVioletRed',\n",
    "    'class_b': 'Navy'\n",
    "}\n",
    "\n",
    "# Kelompokkan label berdasarkan nama kelas\n",
    "gb = df_label.groupby(['Label'])\n",
    "class_a = gb.get_group('Kelas A')\n",
    "class_b = gb.get_group('Kelas B')\n",
    "\n",
    "# Plot\n",
    "plt.scatter(x=class_a['Fitur 1'], y=class_a['Fitur 2'], c=colors['class_a'])\n",
    "plt.scatter(x=class_b['Fitur 1'], y=class_b['Fitur 2'], c=colors['class_b'])\n",
    "plt.xlabel('Fitur 1')\n",
    "plt.ylabel('Fitur 2')\n",
    "plt.legend(['Kelas A', 'Kelas B'])\n",
    "plt.gca().axes.xaxis.set_ticklabels([])\n",
    "plt.gca().axes.yaxis.set_ticklabels([])\n",
    "plt.show()"
   ]
  },
  {
   "cell_type": "markdown",
   "metadata": {},
   "source": [
    "Menghasilkan scatter plot untuk dua kelas ('Kelas A' dan 'Kelas B') berdasarkan dua fitur, dengan warna berbeda untuk masing-masing kelas. Plot ini menyertakan label sumbu, legenda, dan menghapus tick labels pada sumbu X dan Y."
   ]
  },
  {
   "cell_type": "markdown",
   "metadata": {},
   "source": [
    "# Klasifikasi Multinomial Naive Bayes"
   ]
  },
  {
   "cell_type": "code",
   "execution_count": 6,
   "metadata": {},
   "outputs": [
    {
     "name": "stdout",
     "output_type": "stream",
     "text": [
      "Hasil akurasi data train: 0.6666666666666666\n",
      "Hasil akurasi data test: 0.5555555555555556\n"
     ]
    }
   ],
   "source": [
    "from sklearn.naive_bayes import MultinomialNB # class untuk model MultinomialNB\n",
    "from sklearn.model_selection import train_test_split\n",
    "from sklearn.metrics import accuracy_score # evaluasi model berdasarkan akurasi\n",
    "\n",
    "# Inisiasi obyek MultinomialNB\n",
    "mnb = MultinomialNB()\n",
    "\n",
    "# Kita dapat langsung menggunakan fitur X dan label y\n",
    "# hasil dari proses pembuatan data dummy\n",
    "\n",
    "# Split data training dan testing\n",
    "X_train, X_test, y_train, y_test = train_test_split(X,y, test_size=0.3, random_state=30)\n",
    "\n",
    "# Fit model\n",
    "# Label y harus dalam bentuk 1D atau (n_samples,)\n",
    "mnb.fit(X_train, y_train)\n",
    "\n",
    "# Prediksi dengan data training\n",
    "y_train_pred = mnb.predict(X_train)\n",
    "\n",
    "# Evaluasi akurasi training\n",
    "acc_train = accuracy_score(y_train, y_train_pred)\n",
    "\n",
    "# Prediksi test data\n",
    "y_test_pred = mnb.predict(X_test)\n",
    "\n",
    "# Evaluasi model dengan metric akurasi\n",
    "acc_test = accuracy_score(y_test, y_test_pred)\n",
    "\n",
    "# Print hasil evaluasi\n",
    "print(f'Hasil akurasi data train: {acc_train}')\n",
    "print(f'Hasil akurasi data test: {acc_test}')"
   ]
  },
  {
   "cell_type": "markdown",
   "metadata": {},
   "source": [
    "Melatih model Multinomial Naive Bayes pada data yang telah dibagi menjadi data pelatihan dan pengujian. Setelah melatih model dengan data pelatihan, kode ini menghitung dan mencetak akurasi untuk data pelatihan dan pengujian."
   ]
  },
  {
   "cell_type": "markdown",
   "metadata": {},
   "source": [
    "# Klasifikasi Gaussian Naive Bayes"
   ]
  },
  {
   "cell_type": "code",
   "execution_count": 7,
   "metadata": {},
   "outputs": [
    {
     "name": "stdout",
     "output_type": "stream",
     "text": [
      "Hasil akurasi data train (Gaussian): 0.6666666666666666\n",
      "Hasil akurasi data test (Gaussian): 0.3333333333333333\n"
     ]
    }
   ],
   "source": [
    "from sklearn.naive_bayes import GaussianNB # class untuk model GaussianNB\n",
    "\n",
    "# Inisiasi obyek Gaussian\n",
    "gnb = GaussianNB()\n",
    "\n",
    "# Kita menggunakan split data training dan testing\n",
    "# yang sama dengan model multinomial\n",
    "\n",
    "# Fit model\n",
    "# Label y harus dalam bentu 1D atau (n_samples,)\n",
    "gnb.fit(X_train, y_train)\n",
    "\n",
    "# Prediksi dengan data training\n",
    "y_train_pred_gnb = gnb.predict(X_train)\n",
    "\n",
    "# Evaluasi akurasi training\n",
    "acc_train_gnb = accuracy_score(y_train, y_train_pred_gnb)\n",
    "\n",
    "# Prediksi test data\n",
    "y_test_pred_gnb = gnb.predict(X_test)\n",
    "\n",
    "# Evaluasi model dengan metric akurasi\n",
    "acc_test_gnb = accuracy_score(y_test, y_test_pred_gnb)\n",
    "\n",
    "# Print hasil evaluasi\n",
    "print(f'Hasil akurasi data train (Gaussian): {acc_train_gnb}')\n",
    "print(f'Hasil akurasi data test (Gaussian): {acc_test_gnb}')"
   ]
  },
  {
   "cell_type": "markdown",
   "metadata": {},
   "source": [
    "Melatih model Gaussian Naive Bayes menggunakan data pelatihan dan pengujian yang sama dengan model sebelumnya. Setelah melatih model, kode ini menghitung dan mencetak akurasi untuk data pelatihan dan pengujian dengan model Gaussian."
   ]
  }
 ],
 "metadata": {
  "kernelspec": {
   "display_name": "base",
   "language": "python",
   "name": "python3"
  },
  "language_info": {
   "codemirror_mode": {
    "name": "ipython",
    "version": 3
   },
   "file_extension": ".py",
   "mimetype": "text/x-python",
   "name": "python",
   "nbconvert_exporter": "python",
   "pygments_lexer": "ipython3",
   "version": "3.11.5"
  }
 },
 "nbformat": 4,
 "nbformat_minor": 2
}
