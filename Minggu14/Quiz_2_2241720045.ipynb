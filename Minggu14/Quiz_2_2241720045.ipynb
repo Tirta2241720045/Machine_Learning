{
  "nbformat": 4,
  "nbformat_minor": 0,
  "metadata": {
    "colab": {
      "provenance": [],
      "include_colab_link": true
    },
    "kernelspec": {
      "name": "python3",
      "display_name": "Python 3"
    },
    "language_info": {
      "name": "python"
    }
  },
  "cells": [
    {
      "cell_type": "markdown",
      "metadata": {
        "id": "view-in-github",
        "colab_type": "text"
      },
      "source": [
        "<a href=\"https://colab.research.google.com/github/Tirta2241720045/Machine_Learning/blob/main/Minggu14/Quiz_2_2241720045.ipynb\" target=\"_parent\"><img src=\"https://colab.research.google.com/assets/colab-badge.svg\" alt=\"Open In Colab\"/></a>"
      ]
    },
    {
      "cell_type": "code",
      "execution_count": null,
      "metadata": {
        "id": "oVv5wqM1iM08"
      },
      "outputs": [],
      "source": [
        "# KUIS 2 PEMBELAJARAN MESIN\n",
        "Face Detection dan Face Recognition\n",
        "# Intro\n",
        "\n",
        "Pada kuis ini, Anda diminta untuk melakukan face detection dan face recognition pada wajah dengan menggunakan dataset primer (dataset wajah yang kalian kumpulkan sendiri).\n",
        "Spesifikasi pengerjaan kuis yang harus dipehuni adalah,\n",
        "\n",
        "1. Gunakan pre-trained model haarcascade_frontalface_default.xml untuk face detection\n",
        "2. Gunakan pre-trained model faceNet untuk face recognition\n",
        "3. Gunakan model CNN untuk face recognition"
      ]
    }
  ]
}